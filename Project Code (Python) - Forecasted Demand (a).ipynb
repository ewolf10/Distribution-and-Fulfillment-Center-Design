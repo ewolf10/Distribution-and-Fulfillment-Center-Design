{
 "cells": [
  {
   "cell_type": "code",
   "execution_count": 80,
   "id": "5ca86ada",
   "metadata": {},
   "outputs": [],
   "source": [
    "import numpy as np\n",
    "import pandas as pd\n",
    "import matplotlib.pyplot as plt\n",
    "import seaborn as sns\n",
    "import plotly.express as px"
   ]
  },
  {
   "cell_type": "code",
   "execution_count": 2,
   "id": "883b478c",
   "metadata": {},
   "outputs": [],
   "source": [
    "orders = pd.read_csv('Orders - MetaData.csv').to_numpy()"
   ]
  },
  {
   "cell_type": "markdown",
   "id": "f13a3def",
   "metadata": {},
   "source": [
    "Reference Lists, Dictionaries"
   ]
  },
  {
   "cell_type": "code",
   "execution_count": 3,
   "id": "6601c8cf",
   "metadata": {},
   "outputs": [],
   "source": [
    "week_share = pd.read_csv(\"Weekly Demand Share.csv\")['Share'].to_numpy()\n",
    "week = pd.read_csv(\"Weekly Demand Share.csv\")['Week'].to_numpy()\n",
    "\n",
    "product_share = pd.read_csv('Product Demand Share.csv')['Share'].to_numpy()\n",
    "product = pd.read_csv('Product Demand Share.csv')['Product'].to_numpy()\n",
    "\n",
    "zipcode_share = pd.read_csv(\"Zip Code Demand Share.csv\")['Share'].to_numpy()\n",
    "zipcode = pd.read_csv(\"Zip Code Demand Share.csv\")['Zip Code'].to_numpy()"
   ]
  },
  {
   "cell_type": "code",
   "execution_count": 165,
   "id": "d6dd58f9",
   "metadata": {},
   "outputs": [],
   "source": [
    "zip_latlong_df = pd.read_csv(\"Zip Code - Address Data.csv\")\n",
    "zip_lat_dict = zip_latlong_df.set_index('ZIP3')['Lat'].to_dict()\n",
    "zip_long_dict = zip_latlong_df.set_index('ZIP3')['Lon'].to_dict()"
   ]
  },
  {
   "cell_type": "markdown",
   "id": "9e16cf66",
   "metadata": {},
   "source": [
    "Annual Growth:"
   ]
  },
  {
   "cell_type": "code",
   "execution_count": 4,
   "id": "c6e19f66",
   "metadata": {},
   "outputs": [],
   "source": [
    "growth = [1, 1.5, 2, 7/3, 8/3, 3]\n",
    "demand_growth = np.empty((6))\n",
    "demand_growth[0] = np.sum(orders[:,5])\n",
    "\n",
    "for i in range(1,6):\n",
    "    demand_growth[i] = np.rint(demand_growth[0]*growth[i])\n",
    "\n",
    "years = [\"2023\",\"2024\",\"2025\",\"2026\",\"2027\",\"2028\"]"
   ]
  },
  {
   "cell_type": "code",
   "execution_count": 114,
   "id": "0a819548",
   "metadata": {},
   "outputs": [
    {
     "data": {
      "image/png": "[encoded data removed]",
      "text/plain": [
       "<Figure size 432x288 with 1 Axes>"
      ]
     },
     "metadata": {
      "needs_background": "light"
     },
     "output_type": "display_data"
    }
   ],
   "source": [
    "plt.plot(years, demand_growth)\n",
    "plt.xlabel(\"Year\")\n",
    "plt.ylabel(\"Demanded Units\")\n",
    "plt.title(\"Annual Demand: 2023 - 2028\")\n",
    "plt.show()"
   ]
  },
  {
   "cell_type": "code",
   "execution_count": 115,
   "id": "f744b0ca",
   "metadata": {},
   "outputs": [
    {
     "name": "stdout",
     "output_type": "stream",
     "text": [
      "Annual Demand: [5.61819220e+07 8.42728830e+07 1.12363844e+08 1.31091151e+08\n",
      " 1.49818459e+08 1.68545766e+08]\n"
     ]
    }
   ],
   "source": [
    "print(\"Annual Demand: \"+str(demand_growth))"
   ]
  },
  {
   "cell_type": "markdown",
   "id": "2bdab619",
   "metadata": {},
   "source": [
    "Demand Share:"
   ]
  },
  {
   "cell_type": "code",
   "execution_count": 6,
   "id": "e4377c30",
   "metadata": {},
   "outputs": [],
   "source": [
    "forecasted_total_share = np.empty((len(week), len(product), len(zipcode)))\n",
    "for j in range(len(week)):\n",
    "    for k in range(len(product)):\n",
    "        for l in range(len(zipcode)):    \n",
    "            forecasted_total_share[j,k,l] = week_share[j]*product_share[k]*zipcode_share[l]"
   ]
  },
  {
   "cell_type": "code",
   "execution_count": 7,
   "id": "4b69353f",
   "metadata": {},
   "outputs": [],
   "source": [
    "demand_2023 = np.rint(demand_growth[0]*forecasted_total_share)\n",
    "demand_2024 = np.rint(demand_growth[1]*forecasted_total_share)\n",
    "demand_2025 = np.rint(demand_growth[2]*forecasted_total_share)\n",
    "demand_2026 = np.rint(demand_growth[3]*forecasted_total_share)\n",
    "demand_2027 = np.rint(demand_growth[4]*forecasted_total_share)\n",
    "demand_2028 = np.rint(demand_growth[5]*forecasted_total_share)"
   ]
  },
  {
   "cell_type": "markdown",
   "id": "0cac8693",
   "metadata": {},
   "source": [
    "Order Consolidation (50 unit minimum):"
   ]
  },
  {
   "cell_type": "code",
   "execution_count": 8,
   "id": "fa8b1aaa",
   "metadata": {},
   "outputs": [],
   "source": [
    "forecast_2023 = np.empty((len(week), len(product), len(zipcode)))\n",
    "temp = np.zeros((len(product),len(zipcode)))\n",
    "\n",
    "for j in range(len(week)):\n",
    "    for k in range(len(product)):\n",
    "        for l in range(len(zipcode)):    \n",
    "            a = demand_2023[j,k,l] + temp[k,l]\n",
    "            if a>=50:\n",
    "                forecast_2023[j,k,l] = a\n",
    "                temp[k,l] = 0\n",
    "                a = 0 \n",
    "            else: \n",
    "                forecast_2023[j,k,l] = 0\n",
    "                temp[k,l] = a\n",
    "                a = 0"
   ]
  },
  {
   "cell_type": "code",
   "execution_count": 9,
   "id": "4225e5f6",
   "metadata": {},
   "outputs": [],
   "source": [
    "forecast_2024 = np.empty((len(week), len(product), len(zipcode)))\n",
    "temp = np.zeros((len(product),len(zipcode)))\n",
    "              \n",
    "for j in range(len(week)):\n",
    "    for k in range(len(product)):\n",
    "        for l in range(len(zipcode)):    \n",
    "            a = demand_2024[j,k,l] + temp[k,l]\n",
    "            if a>=50:\n",
    "                forecast_2024[j,k,l] = a\n",
    "                temp[k,l] = 0\n",
    "                a = 0 \n",
    "            else: \n",
    "                forecast_2024[j,k,l] = 0\n",
    "                temp[k,l] = a\n",
    "                a = 0"
   ]
  },
  {
   "cell_type": "code",
   "execution_count": 10,
   "id": "02590d8d",
   "metadata": {},
   "outputs": [],
   "source": [
    "forecast_2025 = np.empty((len(week), len(product), len(zipcode)))\n",
    "temp = np.zeros((len(product),len(zipcode)))\n",
    "              \n",
    "for j in range(len(week)):\n",
    "    for k in range(len(product)):\n",
    "        for l in range(len(zipcode)):    \n",
    "            a = demand_2025[j,k,l] + temp[k,l]\n",
    "            if a>=50:\n",
    "                forecast_2025[j,k,l] = a\n",
    "                temp[k,l] = 0\n",
    "                a = 0 \n",
    "            else: \n",
    "                forecast_2025[j,k,l] = 0\n",
    "                temp[k,l] = a\n",
    "                a = 0"
   ]
  },
  {
   "cell_type": "markdown",
   "id": "0e20100d",
   "metadata": {},
   "source": [
    "Order Consolidation (25 unit minimum):"
   ]
  },
  {
   "cell_type": "code",
   "execution_count": 11,
   "id": "7055d91c",
   "metadata": {},
   "outputs": [],
   "source": [
    "forecast_2026 = np.empty((len(week), len(product), len(zipcode)))\n",
    "temp = np.zeros((len(product),len(zipcode)))\n",
    "              \n",
    "for j in range(len(week)):\n",
    "    for k in range(len(product)):\n",
    "        for l in range(len(zipcode)):    \n",
    "            a = demand_2026[j,k,l] + temp[k,l]\n",
    "            if a>=25:\n",
    "                forecast_2026[j,k,l] = a\n",
    "                temp[k,l] = 0\n",
    "                a = 0 \n",
    "            else: \n",
    "                forecast_2026[j,k,l] = 0\n",
    "                temp[k,l] = a\n",
    "                a = 0"
   ]
  },
  {
   "cell_type": "code",
   "execution_count": 12,
   "id": "260d8cad",
   "metadata": {},
   "outputs": [],
   "source": [
    "forecast_2027 = np.empty((len(week), len(product), len(zipcode)))\n",
    "temp = np.zeros((len(product),len(zipcode)))\n",
    "              \n",
    "for j in range(len(week)):\n",
    "    for k in range(len(product)):\n",
    "        for l in range(len(zipcode)):    \n",
    "            a = demand_2027[j,k,l] + temp[k,l]\n",
    "            if a>=25:\n",
    "                forecast_2027[j,k,l] = a\n",
    "                temp[k,l] = 0\n",
    "                a = 0 \n",
    "            else: \n",
    "                forecast_2027[j,k,l] = 0\n",
    "                temp[k,l] = a\n",
    "                a = 0"
   ]
  },
  {
   "cell_type": "code",
   "execution_count": 13,
   "id": "b87ed9c7",
   "metadata": {},
   "outputs": [],
   "source": [
    "forecast_2028 = np.empty((len(week), len(product), len(zipcode)))\n",
    "temp = np.zeros((len(product),len(zipcode)))\n",
    "              \n",
    "for j in range(len(week)):\n",
    "    for k in range(len(product)):\n",
    "        for l in range(len(zipcode)):    \n",
    "            a = demand_2028[j,k,l] + temp[k,l]\n",
    "            if a>=25:\n",
    "                forecast_2028[j,k,l] = a\n",
    "                temp[k,l] = 0\n",
    "                a = 0 \n",
    "            else: \n",
    "                forecast_2028[j,k,l] = 0\n",
    "                temp[k,l] = a\n",
    "                a = 0"
   ]
  },
  {
   "cell_type": "code",
   "execution_count": 14,
   "id": "33013089",
   "metadata": {},
   "outputs": [],
   "source": [
    "names = ['Week','Product','Zipcode']\n",
    "index = pd.MultiIndex.from_product([week, product, zipcode], names = names)\n",
    "\n",
    "df23 = pd.DataFrame({'Quantity': forecast_2023.flatten()},index=index)\n",
    "df23 = df23.reset_index()\n",
    "df23 = df23.loc[df23['Quantity']!=0]\n",
    "\n",
    "df24 = pd.DataFrame({'Quantity': forecast_2024.flatten()},index=index)\n",
    "df24 = df24.reset_index()\n",
    "df24 = df24.loc[df24['Quantity']!=0]\n",
    "\n",
    "df25 = pd.DataFrame({'Quantity': forecast_2025.flatten()},index=index)\n",
    "df25 = df25.reset_index()\n",
    "df25 = df25.loc[df25['Quantity']!=0]\n",
    "\n",
    "df26 = pd.DataFrame({'Quantity': forecast_2026.flatten()},index=index)\n",
    "df26 = df26.reset_index()\n",
    "df26 = df26.loc[df26['Quantity']!=0]\n",
    "\n",
    "df27 = pd.DataFrame({'Quantity': forecast_2027.flatten()},index=index)\n",
    "df27 = df27.reset_index()\n",
    "df27 = df27.loc[df27['Quantity']!=0]\n",
    "\n",
    "df28 = pd.DataFrame({'Quantity': forecast_2028.flatten()},index=index)\n",
    "df28 = df28.reset_index()\n",
    "df28 = df28.loc[df28['Quantity']!=0]"
   ]
  },
  {
   "cell_type": "code",
   "execution_count": 15,
   "id": "2a2f99d0",
   "metadata": {},
   "outputs": [],
   "source": [
    "df23.to_csv(\"Forecast 2023.csv\", index=False)\n",
    "df24.to_csv(\"Forecast 2024.csv\", index=False)\n",
    "df25.to_csv(\"Forecast 2025.csv\", index=False)\n",
    "df26.to_csv(\"Forecast 2026.csv\", index=False)\n",
    "df27.to_csv(\"Forecast 2027.csv\", index=False)\n",
    "df28.to_csv(\"Forecast 2028.csv\", index=False)"
   ]
  },
  {
   "cell_type": "markdown",
   "id": "7e8c2f90",
   "metadata": {},
   "source": [
    "Analysis:"
   ]
  },
  {
   "cell_type": "code",
   "execution_count": 52,
   "id": "bcc39a95",
   "metadata": {},
   "outputs": [
    {
     "name": "stdout",
     "output_type": "stream",
     "text": [
      "2023 Max Order: 608.0\n",
      "2024 Max Order: 912.0\n",
      "2025 Max Order: 1216.0\n",
      "2026 Max Order: 1419.0\n",
      "2027 Max Order: 1622.0\n",
      "2028 Max Order: 1824.0\n"
     ]
    },
    {
     "data": {
      "image/png": "[encoded data removed]",
      "text/plain": [
       "<Figure size 432x288 with 1 Axes>"
      ]
     },
     "metadata": {
      "needs_background": "light"
     },
     "output_type": "display_data"
    }
   ],
   "source": [
    "print(\"2023 Max Order: \"+str(df23['Quantity'].max()))\n",
    "print(\"2024 Max Order: \"+str(df24['Quantity'].max()))\n",
    "print(\"2025 Max Order: \"+str(df25['Quantity'].max()))\n",
    "print(\"2026 Max Order: \"+str(df26['Quantity'].max()))\n",
    "print(\"2027 Max Order: \"+str(df27['Quantity'].max()))\n",
    "print(\"2028 Max Order: \"+str(df28['Quantity'].max()))\n",
    "plt.bar(years,[df23['Quantity'].max(),df24['Quantity'].max(),df25['Quantity'].max(),df26['Quantity'].max(),df27['Quantity'].max(),df28['Quantity'].max()])\n",
    "plt.xlabel(\"Year\")\n",
    "plt.ylabel(\"Maximum Order Quantity\")\n",
    "plt.title(\"2023-2028: Forecasted Maximum Order Quantity\")\n",
    "plt.show()"
   ]
  },
  {
   "cell_type": "code",
   "execution_count": 54,
   "id": "101c55dd",
   "metadata": {},
   "outputs": [
    {
     "name": "stdout",
     "output_type": "stream",
     "text": [
      "2023 # Orders: 865925\n",
      "2024 # Orders: 1278144\n",
      "2025 # Orders: 1663082\n",
      "2026 # Orders: 3390132\n",
      "2027 # Orders: 3760022\n",
      "2028 # Orders: 4110534\n"
     ]
    }
   ],
   "source": [
    "print(\"2023 # Orders: \"+str(df23['Quantity'].count()))\n",
    "print(\"2024 # Orders: \"+str(df24['Quantity'].count()))\n",
    "print(\"2025 # Orders: \"+str(df25['Quantity'].count()))\n",
    "print(\"2026 # Orders: \"+str(df26['Quantity'].count()))\n",
    "print(\"2027 # Orders: \"+str(df27['Quantity'].count()))\n",
    "print(\"2028 # Orders: \"+str(df28['Quantity'].count()))"
   ]
  },
  {
   "cell_type": "code",
   "execution_count": 42,
   "id": "9f097132",
   "metadata": {},
   "outputs": [
    {
     "data": {
      "image/png": "[encoded data removed]",
      "text/plain": [
       "<Figure size 432x288 with 1 Axes>"
      ]
     },
     "metadata": {
      "needs_background": "light"
     },
     "output_type": "display_data"
    }
   ],
   "source": [
    "plt.plot(years,[df23['Quantity'].count(),df24['Quantity'].count(),df25['Quantity'].count(),df26['Quantity'].count(),df27['Quantity'].count(),df28['Quantity'].count()])\n",
    "plt.xlabel(\"Year\")\n",
    "plt.ylabel(\"Number of Orders\")\n",
    "plt.title(\"2023-2028: Forecasted Number of Orders\")\n",
    "plt.show()"
   ]
  },
  {
   "cell_type": "code",
   "execution_count": 66,
   "id": "0947bc1e",
   "metadata": {
    "scrolled": true
   },
   "outputs": [
    {
     "name": "stdout",
     "output_type": "stream",
     "text": [
      "2023: # Orders Less than 500: 849333  0.9808389872102088\n",
      "2024 # Orders Less than 500: 1235955  0.9669919821240799\n",
      "2025: # Orders Less than 500: 1586710  0.9540780310291375\n",
      "2026: # Orders Less than 500: 3292382  0.9711663144679912\n",
      "2027: # Orders Less than 500: 3634025  0.9664903556415362\n",
      "2028: # Orders Less than 500: 3953583  0.961817369714008\n"
     ]
    }
   ],
   "source": [
    "min_orders23 = df23.loc[df23['Quantity']<=100]\n",
    "print(\"2023: # Orders Less than 500: \"+ str(min_orders23['Quantity'].count())+\"  \"+str(min_orders23['Quantity'].count()/df23['Quantity'].count()))\n",
    "\n",
    "min_orders24 = df24.loc[df24['Quantity']<=100]\n",
    "print(\"2024 # Orders Less than 500: \"+ str(min_orders24['Quantity'].count())+\"  \"+str(min_orders24['Quantity'].count()/df24['Quantity'].count()))\n",
    "\n",
    "min_orders25 = df25.loc[df25['Quantity']<=100]\n",
    "print(\"2025: # Orders Less than 500: \"+ str(min_orders25['Quantity'].count())+\"  \"+str(min_orders25['Quantity'].count()/df25['Quantity'].count()))\n",
    "\n",
    "min_orders26 = df26.loc[df26['Quantity']<=100]\n",
    "print(\"2026: # Orders Less than 500: \"+ str(min_orders26['Quantity'].count())+\"  \"+str(min_orders26['Quantity'].count()/df26['Quantity'].count()))\n",
    "\n",
    "min_orders27 = df27.loc[df27['Quantity']<=100]\n",
    "print(\"2027: # Orders Less than 500: \"+ str(min_orders27['Quantity'].count())+\"  \"+str(min_orders27['Quantity'].count()/df27['Quantity'].count()))\n",
    "\n",
    "min_orders28 = df28.loc[df28['Quantity']<=100]\n",
    "print(\"2028: # Orders Less than 500: \"+ str(min_orders28['Quantity'].count())+\"  \"+str(min_orders28['Quantity'].count()/df28['Quantity'].count()))"
   ]
  },
  {
   "cell_type": "code",
   "execution_count": 72,
   "id": "d08182fe",
   "metadata": {
    "scrolled": true
   },
   "outputs": [
    {
     "data": {
      "image/png": "[encoded data removed]",
      "text/plain": [
       "<Figure size 432x288 with 1 Axes>"
      ]
     },
     "metadata": {
      "needs_background": "light"
     },
     "output_type": "display_data"
    }
   ],
   "source": [
    "sns.histplot(data=min_orders25['Quantity'],bins=15,label=\"2025\",color='red')\n",
    "sns.histplot(data=min_orders24['Quantity'],bins=15,label=\"2024\",color='yellow')\n",
    "sns.histplot(data=min_orders23['Quantity'],bins=15,label=\"2023\",color='blue')\n",
    "sns.histplot(data=min_orders28['Quantity'],bins=15,label=\"2028\",color='orange')\n",
    "sns.histplot(data=min_orders27['Quantity'],bins=15,label=\"2027\",color='green')\n",
    "sns.histplot(data=min_orders26['Quantity'],bins=15,label=\"2026\",color='purple')\n",
    "plt.title('2023-2028: Order Quantity Histogram')\n",
    "plt.xlabel('Demanded Units Quantity')\n",
    "plt.legend()\n",
    "plt.show()"
   ]
  },
  {
   "cell_type": "code",
   "execution_count": 107,
   "id": "1fa89d39",
   "metadata": {},
   "outputs": [],
   "source": [
    "df23_zip = df23.groupby(['Zipcode']).sum().sort_values('Quantity',ascending=False).head(10).reset_index()\n",
    "df24_zip = df24.groupby(['Zipcode']).sum().sort_values('Quantity',ascending=False).head(10).reset_index()\n",
    "df25_zip = df25.groupby(['Zipcode']).sum().sort_values('Quantity',ascending=False).head(10).reset_index()\n",
    "df26_zip = df26.groupby(['Zipcode']).sum().sort_values('Quantity',ascending=False).head(10).reset_index()\n",
    "df27_zip = df27.groupby(['Zipcode']).sum().sort_values('Quantity',ascending=False).head(10).reset_index()\n",
    "df28_zip = df28.groupby(['Zipcode']).sum().sort_values('Quantity',ascending=False).head(10).reset_index()\n",
    "\n",
    "dfall_zip = pd.concat([df23_zip,df24_zip,df25_zip,df26_zip,df27_zip,df28_zip])\n",
    "dfall_zip['Count'] = 1\n",
    "dfall_zip = dfall_zip.groupby(['Zipcode']).sum()\n",
    "dfall_zip = dfall_zip.reset_index()"
   ]
  },
  {
   "cell_type": "code",
   "execution_count": 122,
   "id": "619dadbe",
   "metadata": {
    "collapsed": true
   },
   "outputs": [
    {
     "data": {
      "image/png": "[encoded data removed]",
      "text/plain": [
       "<Figure size 432x288 with 1 Axes>"
      ]
     },
     "metadata": {
      "needs_background": "light"
     },
     "output_type": "display_data"
    }
   ],
   "source": [
    "plt.bar(zipcode_df_2b['ZIP'],zipcode_df_2b['Count'],color='orange')\n",
    "plt.xlabel('ZIP Code')\n",
    "plt.ylabel('Count')\n",
    "plt.title('Simulated Top Ten ZIP Codes')\n",
    "plt.show()"
   ]
  },
  {
   "cell_type": "code",
   "execution_count": 185,
   "id": "1bddddec",
   "metadata": {},
   "outputs": [],
   "source": [
    "zipcode_2b = ['100','945','606','112','70','300','331','21','750','770','117','900','852','201','802','840',]\n",
    "zipcode_count_2b = [9,9,9,10,9,8,10,6,9,3,8,4,2,1,1,2]\n",
    "zipcode_df_2b = pd.DataFrame(list(zip(zipcode_2b,zipcode_count_2b)),columns=['ZIP','Count'])\n",
    "zipcode_df_2b = zipcode_df_2b.sort_values(by='Count',ascending=False)\n",
    "#pd.to_numeric(zipcode_df_2b['ZIP'])\n",
    "zipcode_2b_int = [100,945,606,112,70,300,331,21,750,770,117,900,852,201,802,840]\n",
    "zip_df_2b_int = pd.DataFrame(list(zip(zipcode_2b_int,zipcode_count_2b)),columns=['ZIP','Count'])\n"
   ]
  },
  {
   "cell_type": "code",
   "execution_count": 186,
   "id": "83c6b17b",
   "metadata": {
    "scrolled": true
   },
   "outputs": [],
   "source": [
    "zip_df_2b_int['Latitude'] = zip_df_2b_int.loc[:,'ZIP']\n",
    "zip_df_2b_int['Longitude'] = zip_df_2b_int.loc[:,'ZIP']"
   ]
  },
  {
   "cell_type": "code",
   "execution_count": 187,
   "id": "e98c9cfd",
   "metadata": {},
   "outputs": [
    {
     "data": {
      "text/html": [
       "<div>\n",
       "<style scoped>\n",
       "    .dataframe tbody tr th:only-of-type {\n",
       "        vertical-align: middle;\n",
       "    }\n",
       "\n",
       "    .dataframe tbody tr th {\n",
       "        vertical-align: top;\n",
       "    }\n",
       "\n",
       "    .dataframe thead th {\n",
       "        text-align: right;\n",
       "    }\n",
       "</style>\n",
       "<table border=\"1\" class=\"dataframe\">\n",
       "  <thead>\n",
       "    <tr style=\"text-align: right;\">\n",
       "      <th></th>\n",
       "      <th>ZIP</th>\n",
       "      <th>Count</th>\n",
       "      <th>Latitude</th>\n",
       "      <th>Longitude</th>\n",
       "    </tr>\n",
       "  </thead>\n",
       "  <tbody>\n",
       "    <tr>\n",
       "      <th>0</th>\n",
       "      <td>100</td>\n",
       "      <td>9</td>\n",
       "      <td>40.745256</td>\n",
       "      <td>-73.985202</td>\n",
       "    </tr>\n",
       "    <tr>\n",
       "      <th>1</th>\n",
       "      <td>945</td>\n",
       "      <td>9</td>\n",
       "      <td>37.845875</td>\n",
       "      <td>-122.059678</td>\n",
       "    </tr>\n",
       "    <tr>\n",
       "      <th>2</th>\n",
       "      <td>606</td>\n",
       "      <td>9</td>\n",
       "      <td>41.881020</td>\n",
       "      <td>-87.664762</td>\n",
       "    </tr>\n",
       "    <tr>\n",
       "      <th>3</th>\n",
       "      <td>112</td>\n",
       "      <td>10</td>\n",
       "      <td>40.666492</td>\n",
       "      <td>-73.953938</td>\n",
       "    </tr>\n",
       "    <tr>\n",
       "      <th>4</th>\n",
       "      <td>70</td>\n",
       "      <td>9</td>\n",
       "      <td>40.667400</td>\n",
       "      <td>-74.114600</td>\n",
       "    </tr>\n",
       "    <tr>\n",
       "      <th>5</th>\n",
       "      <td>300</td>\n",
       "      <td>8</td>\n",
       "      <td>33.878827</td>\n",
       "      <td>-84.247223</td>\n",
       "    </tr>\n",
       "    <tr>\n",
       "      <th>6</th>\n",
       "      <td>331</td>\n",
       "      <td>10</td>\n",
       "      <td>25.787712</td>\n",
       "      <td>-80.241397</td>\n",
       "    </tr>\n",
       "    <tr>\n",
       "      <th>7</th>\n",
       "      <td>21</td>\n",
       "      <td>6</td>\n",
       "      <td>42.351704</td>\n",
       "      <td>-71.077176</td>\n",
       "    </tr>\n",
       "    <tr>\n",
       "      <th>8</th>\n",
       "      <td>750</td>\n",
       "      <td>9</td>\n",
       "      <td>32.897812</td>\n",
       "      <td>-96.877614</td>\n",
       "    </tr>\n",
       "    <tr>\n",
       "      <th>9</th>\n",
       "      <td>770</td>\n",
       "      <td>3</td>\n",
       "      <td>29.770498</td>\n",
       "      <td>-95.415197</td>\n",
       "    </tr>\n",
       "    <tr>\n",
       "      <th>10</th>\n",
       "      <td>117</td>\n",
       "      <td>8</td>\n",
       "      <td>40.788074</td>\n",
       "      <td>-73.306259</td>\n",
       "    </tr>\n",
       "    <tr>\n",
       "      <th>11</th>\n",
       "      <td>900</td>\n",
       "      <td>4</td>\n",
       "      <td>34.049520</td>\n",
       "      <td>-118.295738</td>\n",
       "    </tr>\n",
       "    <tr>\n",
       "      <th>12</th>\n",
       "      <td>852</td>\n",
       "      <td>2</td>\n",
       "      <td>33.444429</td>\n",
       "      <td>-111.919763</td>\n",
       "    </tr>\n",
       "    <tr>\n",
       "      <th>13</th>\n",
       "      <td>201</td>\n",
       "      <td>1</td>\n",
       "      <td>38.903258</td>\n",
       "      <td>-77.409958</td>\n",
       "    </tr>\n",
       "    <tr>\n",
       "      <th>14</th>\n",
       "      <td>802</td>\n",
       "      <td>1</td>\n",
       "      <td>39.736271</td>\n",
       "      <td>-104.997948</td>\n",
       "    </tr>\n",
       "    <tr>\n",
       "      <th>15</th>\n",
       "      <td>840</td>\n",
       "      <td>2</td>\n",
       "      <td>40.670132</td>\n",
       "      <td>-111.753601</td>\n",
       "    </tr>\n",
       "  </tbody>\n",
       "</table>\n",
       "</div>"
      ],
      "text/plain": [
       "    ZIP  Count   Latitude   Longitude\n",
       "0   100      9  40.745256  -73.985202\n",
       "1   945      9  37.845875 -122.059678\n",
       "2   606      9  41.881020  -87.664762\n",
       "3   112     10  40.666492  -73.953938\n",
       "4    70      9  40.667400  -74.114600\n",
       "5   300      8  33.878827  -84.247223\n",
       "6   331     10  25.787712  -80.241397\n",
       "7    21      6  42.351704  -71.077176\n",
       "8   750      9  32.897812  -96.877614\n",
       "9   770      3  29.770498  -95.415197\n",
       "10  117      8  40.788074  -73.306259\n",
       "11  900      4  34.049520 -118.295738\n",
       "12  852      2  33.444429 -111.919763\n",
       "13  201      1  38.903258  -77.409958\n",
       "14  802      1  39.736271 -104.997948\n",
       "15  840      2  40.670132 -111.753601"
      ]
     },
     "execution_count": 187,
     "metadata": {},
     "output_type": "execute_result"
    }
   ],
   "source": [
    "zip_df_2b_int.replace({\"Latitude\":zip_lat_dict,\"Longitude\":zip_long_dict},inplace=True)\n",
    "zip_df_2b_int"
   ]
  },
  {
   "cell_type": "code",
   "execution_count": 188,
   "id": "3d4a72d4",
   "metadata": {},
   "outputs": [
    {
     "data": {
      "application/vnd.plotly.v1+json": {
       "config": {
        "plotlyServerURL": "https://plot.ly"
       },
       "data": [
        {
         "geo": "geo",
         "hovertemplate": "size=%{marker.size}<br>lat=%{lat}<br>lon=%{lon}<extra></extra>",
         "lat": [
          40.74525552,
          37.84587461,
          41.88102002,
          40.66649174,
          40.6674,
          33.87882718,
          25.78771157,
          42.35170427,
          32.89781244,
          29.77049836,
          40.78807368,
          34.04951999,
          33.44442858,
          38.90325843,
          39.73627057,
          40.67013187
         ],
         "legendgroup": "",
         "lon": [
          -73.98520233,
          -122.0596776,
          -87.6647625,
          -73.95393848,
          -74.1146,
          -84.24722308,
          -80.24139668,
          -71.07717596,
          -96.87761404,
          -95.41519724,
          -73.30625937,
          -118.2957382,
          -111.9197627,
          -77.40995754,
          -104.9979484,
          -111.7536007
         ],
         "marker": {
          "color": "#636efa",
          "size": [
           9,
           9,
           9,
           10,
           9,
           8,
           10,
           6,
           9,
           3,
           8,
           4,
           2,
           1,
           1,
           2
          ],
          "sizemode": "area",
          "sizeref": 0.025,
          "symbol": "circle"
         },
         "mode": "markers",
         "name": "",
         "showlegend": false,
         "type": "scattergeo"
        }
       ],
       "layout": {
        "geo": {
         "center": {},
         "domain": {
          "x": [
           0,
           1
          ],
          "y": [
           0,
           1
          ]
         },
         "scope": "usa"
        },
        "legend": {
         "itemsizing": "constant",
         "tracegroupgap": 0
        },
        "margin": {
         "t": 60
        },
        "template": {
         "data": {
          "bar": [
           {
            "error_x": {
             "color": "#2a3f5f"
            },
            "error_y": {
             "color": "#2a3f5f"
            },
            "marker": {
             "line": {
              "color": "#E5ECF6",
              "width": 0.5
             },
             "pattern": {
              "fillmode": "overlay",
              "size": 10,
              "solidity": 0.2
             }
            },
            "type": "bar"
           }
          ],
          "barpolar": [
           {
            "marker": {
             "line": {
              "color": "#E5ECF6",
              "width": 0.5
             },
             "pattern": {
              "fillmode": "overlay",
              "size": 10,
              "solidity": 0.2
             }
            },
            "type": "barpolar"
           }
          ],
          "carpet": [
           {
            "aaxis": {
             "endlinecolor": "#2a3f5f",
             "gridcolor": "white",
             "linecolor": "white",
             "minorgridcolor": "white",
             "startlinecolor": "#2a3f5f"
            },
            "baxis": {
             "endlinecolor": "#2a3f5f",
             "gridcolor": "white",
             "linecolor": "white",
             "minorgridcolor": "white",
             "startlinecolor": "#2a3f5f"
            },
            "type": "carpet"
           }
          ],
          "choropleth": [
           {
            "colorbar": {
             "outlinewidth": 0,
             "ticks": ""
            },
            "type": "choropleth"
           }
          ],
          "contour": [
           {
            "colorbar": {
             "outlinewidth": 0,
             "ticks": ""
            },
            "colorscale": [
             [
              0,
              "#0d0887"
             ],
             [
              0.1111111111111111,
              "#46039f"
             ],
             [
              0.2222222222222222,
              "#7201a8"
             ],
             [
              0.3333333333333333,
              "#9c179e"
             ],
             [
              0.4444444444444444,
              "#bd3786"
             ],
             [
              0.5555555555555556,
              "#d8576b"
             ],
             [
              0.6666666666666666,
              "#ed7953"
             ],
             [
              0.7777777777777778,
              "#fb9f3a"
             ],
             [
              0.8888888888888888,
              "#fdca26"
             ],
             [
              1,
              "#f0f921"
             ]
            ],
            "type": "contour"
           }
          ],
          "contourcarpet": [
           {
            "colorbar": {
             "outlinewidth": 0,
             "ticks": ""
            },
            "type": "contourcarpet"
           }
          ],
          "heatmap": [
           {
            "colorbar": {
             "outlinewidth": 0,
             "ticks": ""
            },
            "colorscale": [
             [
              0,
              "#0d0887"
             ],
             [
              0.1111111111111111,
              "#46039f"
             ],
             [
              0.2222222222222222,
              "#7201a8"
             ],
             [
              0.3333333333333333,
              "#9c179e"
             ],
             [
              0.4444444444444444,
              "#bd3786"
             ],
             [
              0.5555555555555556,
              "#d8576b"
             ],
             [
              0.6666666666666666,
              "#ed7953"
             ],
             [
              0.7777777777777778,
              "#fb9f3a"
             ],
             [
              0.8888888888888888,
              "#fdca26"
             ],
             [
              1,
              "#f0f921"
             ]
            ],
            "type": "heatmap"
           }
          ],
          "heatmapgl": [
           {
            "colorbar": {
             "outlinewidth": 0,
             "ticks": ""
            },
            "colorscale": [
             [
              0,
              "#0d0887"
             ],
             [
              0.1111111111111111,
              "#46039f"
             ],
             [
              0.2222222222222222,
              "#7201a8"
             ],
             [
              0.3333333333333333,
              "#9c179e"
             ],
             [
              0.4444444444444444,
              "#bd3786"
             ],
             [
              0.5555555555555556,
              "#d8576b"
             ],
             [
              0.6666666666666666,
              "#ed7953"
             ],
             [
              0.7777777777777778,
              "#fb9f3a"
             ],
             [
              0.8888888888888888,
              "#fdca26"
             ],
             [
              1,
              "#f0f921"
             ]
            ],
            "type": "heatmapgl"
           }
          ],
          "histogram": [
           {
            "marker": {
             "pattern": {
              "fillmode": "overlay",
              "size": 10,
              "solidity": 0.2
             }
            },
            "type": "histogram"
           }
          ],
          "histogram2d": [
           {
            "colorbar": {
             "outlinewidth": 0,
             "ticks": ""
            },
            "colorscale": [
             [
              0,
              "#0d0887"
             ],
             [
              0.1111111111111111,
              "#46039f"
             ],
             [
              0.2222222222222222,
              "#7201a8"
             ],
             [
              0.3333333333333333,
              "#9c179e"
             ],
             [
              0.4444444444444444,
              "#bd3786"
             ],
             [
              0.5555555555555556,
              "#d8576b"
             ],
             [
              0.6666666666666666,
              "#ed7953"
             ],
             [
              0.7777777777777778,
              "#fb9f3a"
             ],
             [
              0.8888888888888888,
              "#fdca26"
             ],
             [
              1,
              "#f0f921"
             ]
            ],
            "type": "histogram2d"
           }
          ],
          "histogram2dcontour": [
           {
            "colorbar": {
             "outlinewidth": 0,
             "ticks": ""
            },
            "colorscale": [
             [
              0,
              "#0d0887"
             ],
             [
              0.1111111111111111,
              "#46039f"
             ],
             [
              0.2222222222222222,
              "#7201a8"
             ],
             [
              0.3333333333333333,
              "#9c179e"
             ],
             [
              0.4444444444444444,
              "#bd3786"
             ],
             [
              0.5555555555555556,
              "#d8576b"
             ],
             [
              0.6666666666666666,
              "#ed7953"
             ],
             [
              0.7777777777777778,
              "#fb9f3a"
             ],
             [
              0.8888888888888888,
              "#fdca26"
             ],
             [
              1,
              "#f0f921"
             ]
            ],
            "type": "histogram2dcontour"
           }
          ],
          "mesh3d": [
           {
            "colorbar": {
             "outlinewidth": 0,
             "ticks": ""
            },
            "type": "mesh3d"
           }
          ],
          "parcoords": [
           {
            "line": {
             "colorbar": {
              "outlinewidth": 0,
              "ticks": ""
             }
            },
            "type": "parcoords"
           }
          ],
          "pie": [
           {
            "automargin": true,
            "type": "pie"
           }
          ],
          "scatter": [
           {
            "fillpattern": {
             "fillmode": "overlay",
             "size": 10,
             "solidity": 0.2
            },
            "type": "scatter"
           }
          ],
          "scatter3d": [
           {
            "line": {
             "colorbar": {
              "outlinewidth": 0,
              "ticks": ""
             }
            },
            "marker": {
             "colorbar": {
              "outlinewidth": 0,
              "ticks": ""
             }
            },
            "type": "scatter3d"
           }
          ],
          "scattercarpet": [
           {
            "marker": {
             "colorbar": {
              "outlinewidth": 0,
              "ticks": ""
             }
            },
            "type": "scattercarpet"
           }
          ],
          "scattergeo": [
           {
            "marker": {
             "colorbar": {
              "outlinewidth": 0,
              "ticks": ""
             }
            },
            "type": "scattergeo"
           }
          ],
          "scattergl": [
           {
            "marker": {
             "colorbar": {
              "outlinewidth": 0,
              "ticks": ""
             }
            },
            "type": "scattergl"
           }
          ],
          "scattermapbox": [
           {
            "marker": {
             "colorbar": {
              "outlinewidth": 0,
              "ticks": ""
             }
            },
            "type": "scattermapbox"
           }
          ],
          "scatterpolar": [
           {
            "marker": {
             "colorbar": {
              "outlinewidth": 0,
              "ticks": ""
             }
            },
            "type": "scatterpolar"
           }
          ],
          "scatterpolargl": [
           {
            "marker": {
             "colorbar": {
              "outlinewidth": 0,
              "ticks": ""
             }
            },
            "type": "scatterpolargl"
           }
          ],
          "scatterternary": [
           {
            "marker": {
             "colorbar": {
              "outlinewidth": 0,
              "ticks": ""
             }
            },
            "type": "scatterternary"
           }
          ],
          "surface": [
           {
            "colorbar": {
             "outlinewidth": 0,
             "ticks": ""
            },
            "colorscale": [
             [
              0,
              "#0d0887"
             ],
             [
              0.1111111111111111,
              "#46039f"
             ],
             [
              0.2222222222222222,
              "#7201a8"
             ],
             [
              0.3333333333333333,
              "#9c179e"
             ],
             [
              0.4444444444444444,
              "#bd3786"
             ],
             [
              0.5555555555555556,
              "#d8576b"
             ],
             [
              0.6666666666666666,
              "#ed7953"
             ],
             [
              0.7777777777777778,
              "#fb9f3a"
             ],
             [
              0.8888888888888888,
              "#fdca26"
             ],
             [
              1,
              "#f0f921"
             ]
            ],
            "type": "surface"
           }
          ],
          "table": [
           {
            "cells": {
             "fill": {
              "color": "#EBF0F8"
             },
             "line": {
              "color": "white"
             }
            },
            "header": {
             "fill": {
              "color": "#C8D4E3"
             },
             "line": {
              "color": "white"
             }
            },
            "type": "table"
           }
          ]
         },
         "layout": {
          "annotationdefaults": {
           "arrowcolor": "#2a3f5f",
           "arrowhead": 0,
           "arrowwidth": 1
          },
          "autotypenumbers": "strict",
          "coloraxis": {
           "colorbar": {
            "outlinewidth": 0,
            "ticks": ""
           }
          },
          "colorscale": {
           "diverging": [
            [
             0,
             "#8e0152"
            ],
            [
             0.1,
             "#c51b7d"
            ],
            [
             0.2,
             "#de77ae"
            ],
            [
             0.3,
             "#f1b6da"
            ],
            [
             0.4,
             "#fde0ef"
            ],
            [
             0.5,
             "#f7f7f7"
            ],
            [
             0.6,
             "#e6f5d0"
            ],
            [
             0.7,
             "#b8e186"
            ],
            [
             0.8,
             "#7fbc41"
            ],
            [
             0.9,
             "#4d9221"
            ],
            [
             1,
             "#276419"
            ]
           ],
           "sequential": [
            [
             0,
             "#0d0887"
            ],
            [
             0.1111111111111111,
             "#46039f"
            ],
            [
             0.2222222222222222,
             "#7201a8"
            ],
            [
             0.3333333333333333,
             "#9c179e"
            ],
            [
             0.4444444444444444,
             "#bd3786"
            ],
            [
             0.5555555555555556,
             "#d8576b"
            ],
            [
             0.6666666666666666,
             "#ed7953"
            ],
            [
             0.7777777777777778,
             "#fb9f3a"
            ],
            [
             0.8888888888888888,
             "#fdca26"
            ],
            [
             1,
             "#f0f921"
            ]
           ],
           "sequentialminus": [
            [
             0,
             "#0d0887"
            ],
            [
             0.1111111111111111,
             "#46039f"
            ],
            [
             0.2222222222222222,
             "#7201a8"
            ],
            [
             0.3333333333333333,
             "#9c179e"
            ],
            [
             0.4444444444444444,
             "#bd3786"
            ],
            [
             0.5555555555555556,
             "#d8576b"
            ],
            [
             0.6666666666666666,
             "#ed7953"
            ],
            [
             0.7777777777777778,
             "#fb9f3a"
            ],
            [
             0.8888888888888888,
             "#fdca26"
            ],
            [
             1,
             "#f0f921"
            ]
           ]
          },
          "colorway": [
           "#636efa",
           "#EF553B",
           "#00cc96",
           "#ab63fa",
           "#FFA15A",
           "#19d3f3",
           "#FF6692",
           "#B6E880",
           "#FF97FF",
           "#FECB52"
          ],
          "font": {
           "color": "#2a3f5f"
          },
          "geo": {
           "bgcolor": "white",
           "lakecolor": "white",
           "landcolor": "#E5ECF6",
           "showlakes": true,
           "showland": true,
           "subunitcolor": "white"
          },
          "hoverlabel": {
           "align": "left"
          },
          "hovermode": "closest",
          "mapbox": {
           "style": "light"
          },
          "paper_bgcolor": "white",
          "plot_bgcolor": "#E5ECF6",
          "polar": {
           "angularaxis": {
            "gridcolor": "white",
            "linecolor": "white",
            "ticks": ""
           },
           "bgcolor": "#E5ECF6",
           "radialaxis": {
            "gridcolor": "white",
            "linecolor": "white",
            "ticks": ""
           }
          },
          "scene": {
           "xaxis": {
            "backgroundcolor": "#E5ECF6",
            "gridcolor": "white",
            "gridwidth": 2,
            "linecolor": "white",
            "showbackground": true,
            "ticks": "",
            "zerolinecolor": "white"
           },
           "yaxis": {
            "backgroundcolor": "#E5ECF6",
            "gridcolor": "white",
            "gridwidth": 2,
            "linecolor": "white",
            "showbackground": true,
            "ticks": "",
            "zerolinecolor": "white"
           },
           "zaxis": {
            "backgroundcolor": "#E5ECF6",
            "gridcolor": "white",
            "gridwidth": 2,
            "linecolor": "white",
            "showbackground": true,
            "ticks": "",
            "zerolinecolor": "white"
           }
          },
          "shapedefaults": {
           "line": {
            "color": "#2a3f5f"
           }
          },
          "ternary": {
           "aaxis": {
            "gridcolor": "white",
            "linecolor": "white",
            "ticks": ""
           },
           "baxis": {
            "gridcolor": "white",
            "linecolor": "white",
            "ticks": ""
           },
           "bgcolor": "#E5ECF6",
           "caxis": {
            "gridcolor": "white",
            "linecolor": "white",
            "ticks": ""
           }
          },
          "title": {
           "x": 0.05
          },
          "xaxis": {
           "automargin": true,
           "gridcolor": "white",
           "linecolor": "white",
           "ticks": "",
           "title": {
            "standoff": 15
           },
           "zerolinecolor": "white",
           "zerolinewidth": 2
          },
          "yaxis": {
           "automargin": true,
           "gridcolor": "white",
           "linecolor": "white",
           "ticks": "",
           "title": {
            "standoff": 15
           },
           "zerolinecolor": "white",
           "zerolinewidth": 2
          }
         }
        },
        "title": {
         "text": "Simulated 2023-2028: Top 10 ZIP Codes"
        }
       }
      },
      "text/html": [
       "<div>                            <div id=\"d2379362-d600-48fd-823c-e453b2eee6dd\" class=\"plotly-graph-div\" style=\"height:525px; width:100%;\"></div>            <script type=\"text/javascript\">                require([\"plotly\"], function(Plotly) {                    window.PLOTLYENV=window.PLOTLYENV || {};                                    if (document.getElementById(\"d2379362-d600-48fd-823c-e453b2eee6dd\")) {                    Plotly.newPlot(                        \"d2379362-d600-48fd-823c-e453b2eee6dd\",                        [{\"geo\":\"geo\",\"hovertemplate\":\"size=%{marker.size}<br>lat=%{lat}<br>lon=%{lon}<extra></extra>\",\"lat\":[40.74525552,37.84587461,41.88102002,40.66649174,40.6674,33.87882718,25.78771157,42.35170427,32.89781244,29.77049836,40.78807368,34.04951999,33.44442858,38.90325843,39.73627057,40.67013187],\"legendgroup\":\"\",\"lon\":[-73.98520233,-122.0596776,-87.6647625,-73.95393848,-74.1146,-84.24722308,-80.24139668,-71.07717596,-96.87761404,-95.41519724,-73.30625937,-118.2957382,-111.9197627,-77.40995754,-104.9979484,-111.7536007],\"marker\":{\"color\":\"#636efa\",\"size\":[9,9,9,10,9,8,10,6,9,3,8,4,2,1,1,2],\"sizemode\":\"area\",\"sizeref\":0.025,\"symbol\":\"circle\"},\"mode\":\"markers\",\"name\":\"\",\"showlegend\":false,\"type\":\"scattergeo\"}],                        {\"template\":{\"data\":{\"histogram2dcontour\":[{\"type\":\"histogram2dcontour\",\"colorbar\":{\"outlinewidth\":0,\"ticks\":\"\"},\"colorscale\":[[0.0,\"#0d0887\"],[0.1111111111111111,\"#46039f\"],[0.2222222222222222,\"#7201a8\"],[0.3333333333333333,\"#9c179e\"],[0.4444444444444444,\"#bd3786\"],[0.5555555555555556,\"#d8576b\"],[0.6666666666666666,\"#ed7953\"],[0.7777777777777778,\"#fb9f3a\"],[0.8888888888888888,\"#fdca26\"],[1.0,\"#f0f921\"]]}],\"choropleth\":[{\"type\":\"choropleth\",\"colorbar\":{\"outlinewidth\":0,\"ticks\":\"\"}}],\"histogram2d\":[{\"type\":\"histogram2d\",\"colorbar\":{\"outlinewidth\":0,\"ticks\":\"\"},\"colorscale\":[[0.0,\"#0d0887\"],[0.1111111111111111,\"#46039f\"],[0.2222222222222222,\"#7201a8\"],[0.3333333333333333,\"#9c179e\"],[0.4444444444444444,\"#bd3786\"],[0.5555555555555556,\"#d8576b\"],[0.6666666666666666,\"#ed7953\"],[0.7777777777777778,\"#fb9f3a\"],[0.8888888888888888,\"#fdca26\"],[1.0,\"#f0f921\"]]}],\"heatmap\":[{\"type\":\"heatmap\",\"colorbar\":{\"outlinewidth\":0,\"ticks\":\"\"},\"colorscale\":[[0.0,\"#0d0887\"],[0.1111111111111111,\"#46039f\"],[0.2222222222222222,\"#7201a8\"],[0.3333333333333333,\"#9c179e\"],[0.4444444444444444,\"#bd3786\"],[0.5555555555555556,\"#d8576b\"],[0.6666666666666666,\"#ed7953\"],[0.7777777777777778,\"#fb9f3a\"],[0.8888888888888888,\"#fdca26\"],[1.0,\"#f0f921\"]]}],\"heatmapgl\":[{\"type\":\"heatmapgl\",\"colorbar\":{\"outlinewidth\":0,\"ticks\":\"\"},\"colorscale\":[[0.0,\"#0d0887\"],[0.1111111111111111,\"#46039f\"],[0.2222222222222222,\"#7201a8\"],[0.3333333333333333,\"#9c179e\"],[0.4444444444444444,\"#bd3786\"],[0.5555555555555556,\"#d8576b\"],[0.6666666666666666,\"#ed7953\"],[0.7777777777777778,\"#fb9f3a\"],[0.8888888888888888,\"#fdca26\"],[1.0,\"#f0f921\"]]}],\"contourcarpet\":[{\"type\":\"contourcarpet\",\"colorbar\":{\"outlinewidth\":0,\"ticks\":\"\"}}],\"contour\":[{\"type\":\"contour\",\"colorbar\":{\"outlinewidth\":0,\"ticks\":\"\"},\"colorscale\":[[0.0,\"#0d0887\"],[0.1111111111111111,\"#46039f\"],[0.2222222222222222,\"#7201a8\"],[0.3333333333333333,\"#9c179e\"],[0.4444444444444444,\"#bd3786\"],[0.5555555555555556,\"#d8576b\"],[0.6666666666666666,\"#ed7953\"],[0.7777777777777778,\"#fb9f3a\"],[0.8888888888888888,\"#fdca26\"],[1.0,\"#f0f921\"]]}],\"surface\":[{\"type\":\"surface\",\"colorbar\":{\"outlinewidth\":0,\"ticks\":\"\"},\"colorscale\":[[0.0,\"#0d0887\"],[0.1111111111111111,\"#46039f\"],[0.2222222222222222,\"#7201a8\"],[0.3333333333333333,\"#9c179e\"],[0.4444444444444444,\"#bd3786\"],[0.5555555555555556,\"#d8576b\"],[0.6666666666666666,\"#ed7953\"],[0.7777777777777778,\"#fb9f3a\"],[0.8888888888888888,\"#fdca26\"],[1.0,\"#f0f921\"]]}],\"mesh3d\":[{\"type\":\"mesh3d\",\"colorbar\":{\"outlinewidth\":0,\"ticks\":\"\"}}],\"scatter\":[{\"fillpattern\":{\"fillmode\":\"overlay\",\"size\":10,\"solidity\":0.2},\"type\":\"scatter\"}],\"parcoords\":[{\"type\":\"parcoords\",\"line\":{\"colorbar\":{\"outlinewidth\":0,\"ticks\":\"\"}}}],\"scatterpolargl\":[{\"type\":\"scatterpolargl\",\"marker\":{\"colorbar\":{\"outlinewidth\":0,\"ticks\":\"\"}}}],\"bar\":[{\"error_x\":{\"color\":\"#2a3f5f\"},\"error_y\":{\"color\":\"#2a3f5f\"},\"marker\":{\"line\":{\"color\":\"#E5ECF6\",\"width\":0.5},\"pattern\":{\"fillmode\":\"overlay\",\"size\":10,\"solidity\":0.2}},\"type\":\"bar\"}],\"scattergeo\":[{\"type\":\"scattergeo\",\"marker\":{\"colorbar\":{\"outlinewidth\":0,\"ticks\":\"\"}}}],\"scatterpolar\":[{\"type\":\"scatterpolar\",\"marker\":{\"colorbar\":{\"outlinewidth\":0,\"ticks\":\"\"}}}],\"histogram\":[{\"marker\":{\"pattern\":{\"fillmode\":\"overlay\",\"size\":10,\"solidity\":0.2}},\"type\":\"histogram\"}],\"scattergl\":[{\"type\":\"scattergl\",\"marker\":{\"colorbar\":{\"outlinewidth\":0,\"ticks\":\"\"}}}],\"scatter3d\":[{\"type\":\"scatter3d\",\"line\":{\"colorbar\":{\"outlinewidth\":0,\"ticks\":\"\"}},\"marker\":{\"colorbar\":{\"outlinewidth\":0,\"ticks\":\"\"}}}],\"scattermapbox\":[{\"type\":\"scattermapbox\",\"marker\":{\"colorbar\":{\"outlinewidth\":0,\"ticks\":\"\"}}}],\"scatterternary\":[{\"type\":\"scatterternary\",\"marker\":{\"colorbar\":{\"outlinewidth\":0,\"ticks\":\"\"}}}],\"scattercarpet\":[{\"type\":\"scattercarpet\",\"marker\":{\"colorbar\":{\"outlinewidth\":0,\"ticks\":\"\"}}}],\"carpet\":[{\"aaxis\":{\"endlinecolor\":\"#2a3f5f\",\"gridcolor\":\"white\",\"linecolor\":\"white\",\"minorgridcolor\":\"white\",\"startlinecolor\":\"#2a3f5f\"},\"baxis\":{\"endlinecolor\":\"#2a3f5f\",\"gridcolor\":\"white\",\"linecolor\":\"white\",\"minorgridcolor\":\"white\",\"startlinecolor\":\"#2a3f5f\"},\"type\":\"carpet\"}],\"table\":[{\"cells\":{\"fill\":{\"color\":\"#EBF0F8\"},\"line\":{\"color\":\"white\"}},\"header\":{\"fill\":{\"color\":\"#C8D4E3\"},\"line\":{\"color\":\"white\"}},\"type\":\"table\"}],\"barpolar\":[{\"marker\":{\"line\":{\"color\":\"#E5ECF6\",\"width\":0.5},\"pattern\":{\"fillmode\":\"overlay\",\"size\":10,\"solidity\":0.2}},\"type\":\"barpolar\"}],\"pie\":[{\"automargin\":true,\"type\":\"pie\"}]},\"layout\":{\"autotypenumbers\":\"strict\",\"colorway\":[\"#636efa\",\"#EF553B\",\"#00cc96\",\"#ab63fa\",\"#FFA15A\",\"#19d3f3\",\"#FF6692\",\"#B6E880\",\"#FF97FF\",\"#FECB52\"],\"font\":{\"color\":\"#2a3f5f\"},\"hovermode\":\"closest\",\"hoverlabel\":{\"align\":\"left\"},\"paper_bgcolor\":\"white\",\"plot_bgcolor\":\"#E5ECF6\",\"polar\":{\"bgcolor\":\"#E5ECF6\",\"angularaxis\":{\"gridcolor\":\"white\",\"linecolor\":\"white\",\"ticks\":\"\"},\"radialaxis\":{\"gridcolor\":\"white\",\"linecolor\":\"white\",\"ticks\":\"\"}},\"ternary\":{\"bgcolor\":\"#E5ECF6\",\"aaxis\":{\"gridcolor\":\"white\",\"linecolor\":\"white\",\"ticks\":\"\"},\"baxis\":{\"gridcolor\":\"white\",\"linecolor\":\"white\",\"ticks\":\"\"},\"caxis\":{\"gridcolor\":\"white\",\"linecolor\":\"white\",\"ticks\":\"\"}},\"coloraxis\":{\"colorbar\":{\"outlinewidth\":0,\"ticks\":\"\"}},\"colorscale\":{\"sequential\":[[0.0,\"#0d0887\"],[0.1111111111111111,\"#46039f\"],[0.2222222222222222,\"#7201a8\"],[0.3333333333333333,\"#9c179e\"],[0.4444444444444444,\"#bd3786\"],[0.5555555555555556,\"#d8576b\"],[0.6666666666666666,\"#ed7953\"],[0.7777777777777778,\"#fb9f3a\"],[0.8888888888888888,\"#fdca26\"],[1.0,\"#f0f921\"]],\"sequentialminus\":[[0.0,\"#0d0887\"],[0.1111111111111111,\"#46039f\"],[0.2222222222222222,\"#7201a8\"],[0.3333333333333333,\"#9c179e\"],[0.4444444444444444,\"#bd3786\"],[0.5555555555555556,\"#d8576b\"],[0.6666666666666666,\"#ed7953\"],[0.7777777777777778,\"#fb9f3a\"],[0.8888888888888888,\"#fdca26\"],[1.0,\"#f0f921\"]],\"diverging\":[[0,\"#8e0152\"],[0.1,\"#c51b7d\"],[0.2,\"#de77ae\"],[0.3,\"#f1b6da\"],[0.4,\"#fde0ef\"],[0.5,\"#f7f7f7\"],[0.6,\"#e6f5d0\"],[0.7,\"#b8e186\"],[0.8,\"#7fbc41\"],[0.9,\"#4d9221\"],[1,\"#276419\"]]},\"xaxis\":{\"gridcolor\":\"white\",\"linecolor\":\"white\",\"ticks\":\"\",\"title\":{\"standoff\":15},\"zerolinecolor\":\"white\",\"automargin\":true,\"zerolinewidth\":2},\"yaxis\":{\"gridcolor\":\"white\",\"linecolor\":\"white\",\"ticks\":\"\",\"title\":{\"standoff\":15},\"zerolinecolor\":\"white\",\"automargin\":true,\"zerolinewidth\":2},\"scene\":{\"xaxis\":{\"backgroundcolor\":\"#E5ECF6\",\"gridcolor\":\"white\",\"linecolor\":\"white\",\"showbackground\":true,\"ticks\":\"\",\"zerolinecolor\":\"white\",\"gridwidth\":2},\"yaxis\":{\"backgroundcolor\":\"#E5ECF6\",\"gridcolor\":\"white\",\"linecolor\":\"white\",\"showbackground\":true,\"ticks\":\"\",\"zerolinecolor\":\"white\",\"gridwidth\":2},\"zaxis\":{\"backgroundcolor\":\"#E5ECF6\",\"gridcolor\":\"white\",\"linecolor\":\"white\",\"showbackground\":true,\"ticks\":\"\",\"zerolinecolor\":\"white\",\"gridwidth\":2}},\"shapedefaults\":{\"line\":{\"color\":\"#2a3f5f\"}},\"annotationdefaults\":{\"arrowcolor\":\"#2a3f5f\",\"arrowhead\":0,\"arrowwidth\":1},\"geo\":{\"bgcolor\":\"white\",\"landcolor\":\"#E5ECF6\",\"subunitcolor\":\"white\",\"showland\":true,\"showlakes\":true,\"lakecolor\":\"white\"},\"title\":{\"x\":0.05},\"mapbox\":{\"style\":\"light\"}}},\"geo\":{\"domain\":{\"x\":[0.0,1.0],\"y\":[0.0,1.0]},\"center\":{},\"scope\":\"usa\"},\"legend\":{\"tracegroupgap\":0,\"itemsizing\":\"constant\"},\"margin\":{\"t\":60},\"title\":{\"text\":\"Simulated 2023-2028: Top 10 ZIP Codes\"}},                        {\"responsive\": true}                    ).then(function(){\n",
       "                            \n",
       "var gd = document.getElementById('d2379362-d600-48fd-823c-e453b2eee6dd');\n",
       "var x = new MutationObserver(function (mutations, observer) {{\n",
       "        var display = window.getComputedStyle(gd).display;\n",
       "        if (!display || display === 'none') {{\n",
       "            console.log([gd, 'removed!']);\n",
       "            Plotly.purge(gd);\n",
       "            observer.disconnect();\n",
       "        }}\n",
       "}});\n",
       "\n",
       "// Listen for the removal of the full notebook cells\n",
       "var notebookContainer = gd.closest('#notebook-container');\n",
       "if (notebookContainer) {{\n",
       "    x.observe(notebookContainer, {childList: true});\n",
       "}}\n",
       "\n",
       "// Listen for the clearing of the current output cell\n",
       "var outputEl = gd.closest('.output');\n",
       "if (outputEl) {{\n",
       "    x.observe(outputEl, {childList: true});\n",
       "}}\n",
       "\n",
       "                        })                };                });            </script>        </div>"
      ]
     },
     "metadata": {},
     "output_type": "display_data"
    }
   ],
   "source": [
    "fig = px.scatter_geo(lon = zip_df_2b_int['Longitude'],lat = zip_df_2b_int['Latitude'], size=zip_df_2b_int['Count'])\n",
    "fig.update_layout(title = 'Simulated 2023-2028: Top 10 ZIP Codes',geo_scope='usa',)\n",
    "fig.show()"
   ]
  },
  {
   "cell_type": "code",
   "execution_count": 191,
   "id": "acd2c972",
   "metadata": {},
   "outputs": [],
   "source": [
    "import plotly.graph_objects as go"
   ]
  },
  {
   "cell_type": "code",
   "execution_count": 200,
   "id": "f61503be",
   "metadata": {},
   "outputs": [
    {
     "data": {
      "application/vnd.plotly.v1+json": {
       "config": {
        "plotlyServerURL": "https://plot.ly"
       },
       "data": [
        {
         "lat": [
          40.74525552,
          37.84587461,
          41.88102002,
          40.66649174,
          40.6674,
          33.87882718,
          25.78771157,
          42.35170427,
          32.89781244,
          29.77049836,
          40.78807368,
          34.04951999,
          33.44442858,
          38.90325843,
          39.73627057,
          40.67013187
         ],
         "lon": [
          -73.98520233,
          -122.0596776,
          -87.6647625,
          -73.95393848,
          -74.1146,
          -84.24722308,
          -80.24139668,
          -71.07717596,
          -96.87761404,
          -95.41519724,
          -73.30625937,
          -118.2957382,
          -111.9197627,
          -77.40995754,
          -104.9979484,
          -111.7536007
         ],
         "marker": {
          "color": [
           9,
           9,
           9,
           10,
           9,
           8,
           10,
           6,
           9,
           3,
           8,
           4,
           2,
           1,
           1,
           2
          ],
          "colorbar": {
           "title": {
            "text": "Top 10 Count"
           }
          },
          "size": [
           18,
           18,
           18,
           20,
           18,
           16,
           20,
           12,
           18,
           6,
           16,
           8,
           4,
           2,
           2,
           4
          ]
         },
         "type": "scattergeo"
        }
       ],
       "layout": {
        "geo": {
         "scope": "usa"
        },
        "template": {
         "data": {
          "bar": [
           {
            "error_x": {
             "color": "#2a3f5f"
            },
            "error_y": {
             "color": "#2a3f5f"
            },
            "marker": {
             "line": {
              "color": "#E5ECF6",
              "width": 0.5
             },
             "pattern": {
              "fillmode": "overlay",
              "size": 10,
              "solidity": 0.2
             }
            },
            "type": "bar"
           }
          ],
          "barpolar": [
           {
            "marker": {
             "line": {
              "color": "#E5ECF6",
              "width": 0.5
             },
             "pattern": {
              "fillmode": "overlay",
              "size": 10,
              "solidity": 0.2
             }
            },
            "type": "barpolar"
           }
          ],
          "carpet": [
           {
            "aaxis": {
             "endlinecolor": "#2a3f5f",
             "gridcolor": "white",
             "linecolor": "white",
             "minorgridcolor": "white",
             "startlinecolor": "#2a3f5f"
            },
            "baxis": {
             "endlinecolor": "#2a3f5f",
             "gridcolor": "white",
             "linecolor": "white",
             "minorgridcolor": "white",
             "startlinecolor": "#2a3f5f"
            },
            "type": "carpet"
           }
          ],
          "choropleth": [
           {
            "colorbar": {
             "outlinewidth": 0,
             "ticks": ""
            },
            "type": "choropleth"
           }
          ],
          "contour": [
           {
            "colorbar": {
             "outlinewidth": 0,
             "ticks": ""
            },
            "colorscale": [
             [
              0,
              "#0d0887"
             ],
             [
              0.1111111111111111,
              "#46039f"
             ],
             [
              0.2222222222222222,
              "#7201a8"
             ],
             [
              0.3333333333333333,
              "#9c179e"
             ],
             [
              0.4444444444444444,
              "#bd3786"
             ],
             [
              0.5555555555555556,
              "#d8576b"
             ],
             [
              0.6666666666666666,
              "#ed7953"
             ],
             [
              0.7777777777777778,
              "#fb9f3a"
             ],
             [
              0.8888888888888888,
              "#fdca26"
             ],
             [
              1,
              "#f0f921"
             ]
            ],
            "type": "contour"
           }
          ],
          "contourcarpet": [
           {
            "colorbar": {
             "outlinewidth": 0,
             "ticks": ""
            },
            "type": "contourcarpet"
           }
          ],
          "heatmap": [
           {
            "colorbar": {
             "outlinewidth": 0,
             "ticks": ""
            },
            "colorscale": [
             [
              0,
              "#0d0887"
             ],
             [
              0.1111111111111111,
              "#46039f"
             ],
             [
              0.2222222222222222,
              "#7201a8"
             ],
             [
              0.3333333333333333,
              "#9c179e"
             ],
             [
              0.4444444444444444,
              "#bd3786"
             ],
             [
              0.5555555555555556,
              "#d8576b"
             ],
             [
              0.6666666666666666,
              "#ed7953"
             ],
             [
              0.7777777777777778,
              "#fb9f3a"
             ],
             [
              0.8888888888888888,
              "#fdca26"
             ],
             [
              1,
              "#f0f921"
             ]
            ],
            "type": "heatmap"
           }
          ],
          "heatmapgl": [
           {
            "colorbar": {
             "outlinewidth": 0,
             "ticks": ""
            },
            "colorscale": [
             [
              0,
              "#0d0887"
             ],
             [
              0.1111111111111111,
              "#46039f"
             ],
             [
              0.2222222222222222,
              "#7201a8"
             ],
             [
              0.3333333333333333,
              "#9c179e"
             ],
             [
              0.4444444444444444,
              "#bd3786"
             ],
             [
              0.5555555555555556,
              "#d8576b"
             ],
             [
              0.6666666666666666,
              "#ed7953"
             ],
             [
              0.7777777777777778,
              "#fb9f3a"
             ],
             [
              0.8888888888888888,
              "#fdca26"
             ],
             [
              1,
              "#f0f921"
             ]
            ],
            "type": "heatmapgl"
           }
          ],
          "histogram": [
           {
            "marker": {
             "pattern": {
              "fillmode": "overlay",
              "size": 10,
              "solidity": 0.2
             }
            },
            "type": "histogram"
           }
          ],
          "histogram2d": [
           {
            "colorbar": {
             "outlinewidth": 0,
             "ticks": ""
            },
            "colorscale": [
             [
              0,
              "#0d0887"
             ],
             [
              0.1111111111111111,
              "#46039f"
             ],
             [
              0.2222222222222222,
              "#7201a8"
             ],
             [
              0.3333333333333333,
              "#9c179e"
             ],
             [
              0.4444444444444444,
              "#bd3786"
             ],
             [
              0.5555555555555556,
              "#d8576b"
             ],
             [
              0.6666666666666666,
              "#ed7953"
             ],
             [
              0.7777777777777778,
              "#fb9f3a"
             ],
             [
              0.8888888888888888,
              "#fdca26"
             ],
             [
              1,
              "#f0f921"
             ]
            ],
            "type": "histogram2d"
           }
          ],
          "histogram2dcontour": [
           {
            "colorbar": {
             "outlinewidth": 0,
             "ticks": ""
            },
            "colorscale": [
             [
              0,
              "#0d0887"
             ],
             [
              0.1111111111111111,
              "#46039f"
             ],
             [
              0.2222222222222222,
              "#7201a8"
             ],
             [
              0.3333333333333333,
              "#9c179e"
             ],
             [
              0.4444444444444444,
              "#bd3786"
             ],
             [
              0.5555555555555556,
              "#d8576b"
             ],
             [
              0.6666666666666666,
              "#ed7953"
             ],
             [
              0.7777777777777778,
              "#fb9f3a"
             ],
             [
              0.8888888888888888,
              "#fdca26"
             ],
             [
              1,
              "#f0f921"
             ]
            ],
            "type": "histogram2dcontour"
           }
          ],
          "mesh3d": [
           {
            "colorbar": {
             "outlinewidth": 0,
             "ticks": ""
            },
            "type": "mesh3d"
           }
          ],
          "parcoords": [
           {
            "line": {
             "colorbar": {
              "outlinewidth": 0,
              "ticks": ""
             }
            },
            "type": "parcoords"
           }
          ],
          "pie": [
           {
            "automargin": true,
            "type": "pie"
           }
          ],
          "scatter": [
           {
            "fillpattern": {
             "fillmode": "overlay",
             "size": 10,
             "solidity": 0.2
            },
            "type": "scatter"
           }
          ],
          "scatter3d": [
           {
            "line": {
             "colorbar": {
              "outlinewidth": 0,
              "ticks": ""
             }
            },
            "marker": {
             "colorbar": {
              "outlinewidth": 0,
              "ticks": ""
             }
            },
            "type": "scatter3d"
           }
          ],
          "scattercarpet": [
           {
            "marker": {
             "colorbar": {
              "outlinewidth": 0,
              "ticks": ""
             }
            },
            "type": "scattercarpet"
           }
          ],
          "scattergeo": [
           {
            "marker": {
             "colorbar": {
              "outlinewidth": 0,
              "ticks": ""
             }
            },
            "type": "scattergeo"
           }
          ],
          "scattergl": [
           {
            "marker": {
             "colorbar": {
              "outlinewidth": 0,
              "ticks": ""
             }
            },
            "type": "scattergl"
           }
          ],
          "scattermapbox": [
           {
            "marker": {
             "colorbar": {
              "outlinewidth": 0,
              "ticks": ""
             }
            },
            "type": "scattermapbox"
           }
          ],
          "scatterpolar": [
           {
            "marker": {
             "colorbar": {
              "outlinewidth": 0,
              "ticks": ""
             }
            },
            "type": "scatterpolar"
           }
          ],
          "scatterpolargl": [
           {
            "marker": {
             "colorbar": {
              "outlinewidth": 0,
              "ticks": ""
             }
            },
            "type": "scatterpolargl"
           }
          ],
          "scatterternary": [
           {
            "marker": {
             "colorbar": {
              "outlinewidth": 0,
              "ticks": ""
             }
            },
            "type": "scatterternary"
           }
          ],
          "surface": [
           {
            "colorbar": {
             "outlinewidth": 0,
             "ticks": ""
            },
            "colorscale": [
             [
              0,
              "#0d0887"
             ],
             [
              0.1111111111111111,
              "#46039f"
             ],
             [
              0.2222222222222222,
              "#7201a8"
             ],
             [
              0.3333333333333333,
              "#9c179e"
             ],
             [
              0.4444444444444444,
              "#bd3786"
             ],
             [
              0.5555555555555556,
              "#d8576b"
             ],
             [
              0.6666666666666666,
              "#ed7953"
             ],
             [
              0.7777777777777778,
              "#fb9f3a"
             ],
             [
              0.8888888888888888,
              "#fdca26"
             ],
             [
              1,
              "#f0f921"
             ]
            ],
            "type": "surface"
           }
          ],
          "table": [
           {
            "cells": {
             "fill": {
              "color": "#EBF0F8"
             },
             "line": {
              "color": "white"
             }
            },
            "header": {
             "fill": {
              "color": "#C8D4E3"
             },
             "line": {
              "color": "white"
             }
            },
            "type": "table"
           }
          ]
         },
         "layout": {
          "annotationdefaults": {
           "arrowcolor": "#2a3f5f",
           "arrowhead": 0,
           "arrowwidth": 1
          },
          "autotypenumbers": "strict",
          "coloraxis": {
           "colorbar": {
            "outlinewidth": 0,
            "ticks": ""
           }
          },
          "colorscale": {
           "diverging": [
            [
             0,
             "#8e0152"
            ],
            [
             0.1,
             "#c51b7d"
            ],
            [
             0.2,
             "#de77ae"
            ],
            [
             0.3,
             "#f1b6da"
            ],
            [
             0.4,
             "#fde0ef"
            ],
            [
             0.5,
             "#f7f7f7"
            ],
            [
             0.6,
             "#e6f5d0"
            ],
            [
             0.7,
             "#b8e186"
            ],
            [
             0.8,
             "#7fbc41"
            ],
            [
             0.9,
             "#4d9221"
            ],
            [
             1,
             "#276419"
            ]
           ],
           "sequential": [
            [
             0,
             "#0d0887"
            ],
            [
             0.1111111111111111,
             "#46039f"
            ],
            [
             0.2222222222222222,
             "#7201a8"
            ],
            [
             0.3333333333333333,
             "#9c179e"
            ],
            [
             0.4444444444444444,
             "#bd3786"
            ],
            [
             0.5555555555555556,
             "#d8576b"
            ],
            [
             0.6666666666666666,
             "#ed7953"
            ],
            [
             0.7777777777777778,
             "#fb9f3a"
            ],
            [
             0.8888888888888888,
             "#fdca26"
            ],
            [
             1,
             "#f0f921"
            ]
           ],
           "sequentialminus": [
            [
             0,
             "#0d0887"
            ],
            [
             0.1111111111111111,
             "#46039f"
            ],
            [
             0.2222222222222222,
             "#7201a8"
            ],
            [
             0.3333333333333333,
             "#9c179e"
            ],
            [
             0.4444444444444444,
             "#bd3786"
            ],
            [
             0.5555555555555556,
             "#d8576b"
            ],
            [
             0.6666666666666666,
             "#ed7953"
            ],
            [
             0.7777777777777778,
             "#fb9f3a"
            ],
            [
             0.8888888888888888,
             "#fdca26"
            ],
            [
             1,
             "#f0f921"
            ]
           ]
          },
          "colorway": [
           "#636efa",
           "#EF553B",
           "#00cc96",
           "#ab63fa",
           "#FFA15A",
           "#19d3f3",
           "#FF6692",
           "#B6E880",
           "#FF97FF",
           "#FECB52"
          ],
          "font": {
           "color": "#2a3f5f"
          },
          "geo": {
           "bgcolor": "white",
           "lakecolor": "white",
           "landcolor": "#E5ECF6",
           "showlakes": true,
           "showland": true,
           "subunitcolor": "white"
          },
          "hoverlabel": {
           "align": "left"
          },
          "hovermode": "closest",
          "mapbox": {
           "style": "light"
          },
          "paper_bgcolor": "white",
          "plot_bgcolor": "#E5ECF6",
          "polar": {
           "angularaxis": {
            "gridcolor": "white",
            "linecolor": "white",
            "ticks": ""
           },
           "bgcolor": "#E5ECF6",
           "radialaxis": {
            "gridcolor": "white",
            "linecolor": "white",
            "ticks": ""
           }
          },
          "scene": {
           "xaxis": {
            "backgroundcolor": "#E5ECF6",
            "gridcolor": "white",
            "gridwidth": 2,
            "linecolor": "white",
            "showbackground": true,
            "ticks": "",
            "zerolinecolor": "white"
           },
           "yaxis": {
            "backgroundcolor": "#E5ECF6",
            "gridcolor": "white",
            "gridwidth": 2,
            "linecolor": "white",
            "showbackground": true,
            "ticks": "",
            "zerolinecolor": "white"
           },
           "zaxis": {
            "backgroundcolor": "#E5ECF6",
            "gridcolor": "white",
            "gridwidth": 2,
            "linecolor": "white",
            "showbackground": true,
            "ticks": "",
            "zerolinecolor": "white"
           }
          },
          "shapedefaults": {
           "line": {
            "color": "#2a3f5f"
           }
          },
          "ternary": {
           "aaxis": {
            "gridcolor": "white",
            "linecolor": "white",
            "ticks": ""
           },
           "baxis": {
            "gridcolor": "white",
            "linecolor": "white",
            "ticks": ""
           },
           "bgcolor": "#E5ECF6",
           "caxis": {
            "gridcolor": "white",
            "linecolor": "white",
            "ticks": ""
           }
          },
          "title": {
           "x": 0.05
          },
          "xaxis": {
           "automargin": true,
           "gridcolor": "white",
           "linecolor": "white",
           "ticks": "",
           "title": {
            "standoff": 15
           },
           "zerolinecolor": "white",
           "zerolinewidth": 2
          },
          "yaxis": {
           "automargin": true,
           "gridcolor": "white",
           "linecolor": "white",
           "ticks": "",
           "title": {
            "standoff": 15
           },
           "zerolinecolor": "white",
           "zerolinewidth": 2
          }
         }
        },
        "title": {
         "text": "Demand by ZIP Code"
        }
       }
      },
      "text/html": [
       "<div>                            <div id=\"4e08d59d-6240-4919-bf27-038065cd4210\" class=\"plotly-graph-div\" style=\"height:525px; width:100%;\"></div>            <script type=\"text/javascript\">                require([\"plotly\"], function(Plotly) {                    window.PLOTLYENV=window.PLOTLYENV || {};                                    if (document.getElementById(\"4e08d59d-6240-4919-bf27-038065cd4210\")) {                    Plotly.newPlot(                        \"4e08d59d-6240-4919-bf27-038065cd4210\",                        [{\"lat\":[40.74525552,37.84587461,41.88102002,40.66649174,40.6674,33.87882718,25.78771157,42.35170427,32.89781244,29.77049836,40.78807368,34.04951999,33.44442858,38.90325843,39.73627057,40.67013187],\"lon\":[-73.98520233,-122.0596776,-87.6647625,-73.95393848,-74.1146,-84.24722308,-80.24139668,-71.07717596,-96.87761404,-95.41519724,-73.30625937,-118.2957382,-111.9197627,-77.40995754,-104.9979484,-111.7536007],\"marker\":{\"color\":[9,9,9,10,9,8,10,6,9,3,8,4,2,1,1,2],\"colorbar\":{\"title\":{\"text\":\"Top 10 Count\"}},\"size\":[18,18,18,20,18,16,20,12,18,6,16,8,4,2,2,4]},\"type\":\"scattergeo\"}],                        {\"template\":{\"data\":{\"histogram2dcontour\":[{\"type\":\"histogram2dcontour\",\"colorbar\":{\"outlinewidth\":0,\"ticks\":\"\"},\"colorscale\":[[0.0,\"#0d0887\"],[0.1111111111111111,\"#46039f\"],[0.2222222222222222,\"#7201a8\"],[0.3333333333333333,\"#9c179e\"],[0.4444444444444444,\"#bd3786\"],[0.5555555555555556,\"#d8576b\"],[0.6666666666666666,\"#ed7953\"],[0.7777777777777778,\"#fb9f3a\"],[0.8888888888888888,\"#fdca26\"],[1.0,\"#f0f921\"]]}],\"choropleth\":[{\"type\":\"choropleth\",\"colorbar\":{\"outlinewidth\":0,\"ticks\":\"\"}}],\"histogram2d\":[{\"type\":\"histogram2d\",\"colorbar\":{\"outlinewidth\":0,\"ticks\":\"\"},\"colorscale\":[[0.0,\"#0d0887\"],[0.1111111111111111,\"#46039f\"],[0.2222222222222222,\"#7201a8\"],[0.3333333333333333,\"#9c179e\"],[0.4444444444444444,\"#bd3786\"],[0.5555555555555556,\"#d8576b\"],[0.6666666666666666,\"#ed7953\"],[0.7777777777777778,\"#fb9f3a\"],[0.8888888888888888,\"#fdca26\"],[1.0,\"#f0f921\"]]}],\"heatmap\":[{\"type\":\"heatmap\",\"colorbar\":{\"outlinewidth\":0,\"ticks\":\"\"},\"colorscale\":[[0.0,\"#0d0887\"],[0.1111111111111111,\"#46039f\"],[0.2222222222222222,\"#7201a8\"],[0.3333333333333333,\"#9c179e\"],[0.4444444444444444,\"#bd3786\"],[0.5555555555555556,\"#d8576b\"],[0.6666666666666666,\"#ed7953\"],[0.7777777777777778,\"#fb9f3a\"],[0.8888888888888888,\"#fdca26\"],[1.0,\"#f0f921\"]]}],\"heatmapgl\":[{\"type\":\"heatmapgl\",\"colorbar\":{\"outlinewidth\":0,\"ticks\":\"\"},\"colorscale\":[[0.0,\"#0d0887\"],[0.1111111111111111,\"#46039f\"],[0.2222222222222222,\"#7201a8\"],[0.3333333333333333,\"#9c179e\"],[0.4444444444444444,\"#bd3786\"],[0.5555555555555556,\"#d8576b\"],[0.6666666666666666,\"#ed7953\"],[0.7777777777777778,\"#fb9f3a\"],[0.8888888888888888,\"#fdca26\"],[1.0,\"#f0f921\"]]}],\"contourcarpet\":[{\"type\":\"contourcarpet\",\"colorbar\":{\"outlinewidth\":0,\"ticks\":\"\"}}],\"contour\":[{\"type\":\"contour\",\"colorbar\":{\"outlinewidth\":0,\"ticks\":\"\"},\"colorscale\":[[0.0,\"#0d0887\"],[0.1111111111111111,\"#46039f\"],[0.2222222222222222,\"#7201a8\"],[0.3333333333333333,\"#9c179e\"],[0.4444444444444444,\"#bd3786\"],[0.5555555555555556,\"#d8576b\"],[0.6666666666666666,\"#ed7953\"],[0.7777777777777778,\"#fb9f3a\"],[0.8888888888888888,\"#fdca26\"],[1.0,\"#f0f921\"]]}],\"surface\":[{\"type\":\"surface\",\"colorbar\":{\"outlinewidth\":0,\"ticks\":\"\"},\"colorscale\":[[0.0,\"#0d0887\"],[0.1111111111111111,\"#46039f\"],[0.2222222222222222,\"#7201a8\"],[0.3333333333333333,\"#9c179e\"],[0.4444444444444444,\"#bd3786\"],[0.5555555555555556,\"#d8576b\"],[0.6666666666666666,\"#ed7953\"],[0.7777777777777778,\"#fb9f3a\"],[0.8888888888888888,\"#fdca26\"],[1.0,\"#f0f921\"]]}],\"mesh3d\":[{\"type\":\"mesh3d\",\"colorbar\":{\"outlinewidth\":0,\"ticks\":\"\"}}],\"scatter\":[{\"fillpattern\":{\"fillmode\":\"overlay\",\"size\":10,\"solidity\":0.2},\"type\":\"scatter\"}],\"parcoords\":[{\"type\":\"parcoords\",\"line\":{\"colorbar\":{\"outlinewidth\":0,\"ticks\":\"\"}}}],\"scatterpolargl\":[{\"type\":\"scatterpolargl\",\"marker\":{\"colorbar\":{\"outlinewidth\":0,\"ticks\":\"\"}}}],\"bar\":[{\"error_x\":{\"color\":\"#2a3f5f\"},\"error_y\":{\"color\":\"#2a3f5f\"},\"marker\":{\"line\":{\"color\":\"#E5ECF6\",\"width\":0.5},\"pattern\":{\"fillmode\":\"overlay\",\"size\":10,\"solidity\":0.2}},\"type\":\"bar\"}],\"scattergeo\":[{\"type\":\"scattergeo\",\"marker\":{\"colorbar\":{\"outlinewidth\":0,\"ticks\":\"\"}}}],\"scatterpolar\":[{\"type\":\"scatterpolar\",\"marker\":{\"colorbar\":{\"outlinewidth\":0,\"ticks\":\"\"}}}],\"histogram\":[{\"marker\":{\"pattern\":{\"fillmode\":\"overlay\",\"size\":10,\"solidity\":0.2}},\"type\":\"histogram\"}],\"scattergl\":[{\"type\":\"scattergl\",\"marker\":{\"colorbar\":{\"outlinewidth\":0,\"ticks\":\"\"}}}],\"scatter3d\":[{\"type\":\"scatter3d\",\"line\":{\"colorbar\":{\"outlinewidth\":0,\"ticks\":\"\"}},\"marker\":{\"colorbar\":{\"outlinewidth\":0,\"ticks\":\"\"}}}],\"scattermapbox\":[{\"type\":\"scattermapbox\",\"marker\":{\"colorbar\":{\"outlinewidth\":0,\"ticks\":\"\"}}}],\"scatterternary\":[{\"type\":\"scatterternary\",\"marker\":{\"colorbar\":{\"outlinewidth\":0,\"ticks\":\"\"}}}],\"scattercarpet\":[{\"type\":\"scattercarpet\",\"marker\":{\"colorbar\":{\"outlinewidth\":0,\"ticks\":\"\"}}}],\"carpet\":[{\"aaxis\":{\"endlinecolor\":\"#2a3f5f\",\"gridcolor\":\"white\",\"linecolor\":\"white\",\"minorgridcolor\":\"white\",\"startlinecolor\":\"#2a3f5f\"},\"baxis\":{\"endlinecolor\":\"#2a3f5f\",\"gridcolor\":\"white\",\"linecolor\":\"white\",\"minorgridcolor\":\"white\",\"startlinecolor\":\"#2a3f5f\"},\"type\":\"carpet\"}],\"table\":[{\"cells\":{\"fill\":{\"color\":\"#EBF0F8\"},\"line\":{\"color\":\"white\"}},\"header\":{\"fill\":{\"color\":\"#C8D4E3\"},\"line\":{\"color\":\"white\"}},\"type\":\"table\"}],\"barpolar\":[{\"marker\":{\"line\":{\"color\":\"#E5ECF6\",\"width\":0.5},\"pattern\":{\"fillmode\":\"overlay\",\"size\":10,\"solidity\":0.2}},\"type\":\"barpolar\"}],\"pie\":[{\"automargin\":true,\"type\":\"pie\"}]},\"layout\":{\"autotypenumbers\":\"strict\",\"colorway\":[\"#636efa\",\"#EF553B\",\"#00cc96\",\"#ab63fa\",\"#FFA15A\",\"#19d3f3\",\"#FF6692\",\"#B6E880\",\"#FF97FF\",\"#FECB52\"],\"font\":{\"color\":\"#2a3f5f\"},\"hovermode\":\"closest\",\"hoverlabel\":{\"align\":\"left\"},\"paper_bgcolor\":\"white\",\"plot_bgcolor\":\"#E5ECF6\",\"polar\":{\"bgcolor\":\"#E5ECF6\",\"angularaxis\":{\"gridcolor\":\"white\",\"linecolor\":\"white\",\"ticks\":\"\"},\"radialaxis\":{\"gridcolor\":\"white\",\"linecolor\":\"white\",\"ticks\":\"\"}},\"ternary\":{\"bgcolor\":\"#E5ECF6\",\"aaxis\":{\"gridcolor\":\"white\",\"linecolor\":\"white\",\"ticks\":\"\"},\"baxis\":{\"gridcolor\":\"white\",\"linecolor\":\"white\",\"ticks\":\"\"},\"caxis\":{\"gridcolor\":\"white\",\"linecolor\":\"white\",\"ticks\":\"\"}},\"coloraxis\":{\"colorbar\":{\"outlinewidth\":0,\"ticks\":\"\"}},\"colorscale\":{\"sequential\":[[0.0,\"#0d0887\"],[0.1111111111111111,\"#46039f\"],[0.2222222222222222,\"#7201a8\"],[0.3333333333333333,\"#9c179e\"],[0.4444444444444444,\"#bd3786\"],[0.5555555555555556,\"#d8576b\"],[0.6666666666666666,\"#ed7953\"],[0.7777777777777778,\"#fb9f3a\"],[0.8888888888888888,\"#fdca26\"],[1.0,\"#f0f921\"]],\"sequentialminus\":[[0.0,\"#0d0887\"],[0.1111111111111111,\"#46039f\"],[0.2222222222222222,\"#7201a8\"],[0.3333333333333333,\"#9c179e\"],[0.4444444444444444,\"#bd3786\"],[0.5555555555555556,\"#d8576b\"],[0.6666666666666666,\"#ed7953\"],[0.7777777777777778,\"#fb9f3a\"],[0.8888888888888888,\"#fdca26\"],[1.0,\"#f0f921\"]],\"diverging\":[[0,\"#8e0152\"],[0.1,\"#c51b7d\"],[0.2,\"#de77ae\"],[0.3,\"#f1b6da\"],[0.4,\"#fde0ef\"],[0.5,\"#f7f7f7\"],[0.6,\"#e6f5d0\"],[0.7,\"#b8e186\"],[0.8,\"#7fbc41\"],[0.9,\"#4d9221\"],[1,\"#276419\"]]},\"xaxis\":{\"gridcolor\":\"white\",\"linecolor\":\"white\",\"ticks\":\"\",\"title\":{\"standoff\":15},\"zerolinecolor\":\"white\",\"automargin\":true,\"zerolinewidth\":2},\"yaxis\":{\"gridcolor\":\"white\",\"linecolor\":\"white\",\"ticks\":\"\",\"title\":{\"standoff\":15},\"zerolinecolor\":\"white\",\"automargin\":true,\"zerolinewidth\":2},\"scene\":{\"xaxis\":{\"backgroundcolor\":\"#E5ECF6\",\"gridcolor\":\"white\",\"linecolor\":\"white\",\"showbackground\":true,\"ticks\":\"\",\"zerolinecolor\":\"white\",\"gridwidth\":2},\"yaxis\":{\"backgroundcolor\":\"#E5ECF6\",\"gridcolor\":\"white\",\"linecolor\":\"white\",\"showbackground\":true,\"ticks\":\"\",\"zerolinecolor\":\"white\",\"gridwidth\":2},\"zaxis\":{\"backgroundcolor\":\"#E5ECF6\",\"gridcolor\":\"white\",\"linecolor\":\"white\",\"showbackground\":true,\"ticks\":\"\",\"zerolinecolor\":\"white\",\"gridwidth\":2}},\"shapedefaults\":{\"line\":{\"color\":\"#2a3f5f\"}},\"annotationdefaults\":{\"arrowcolor\":\"#2a3f5f\",\"arrowhead\":0,\"arrowwidth\":1},\"geo\":{\"bgcolor\":\"white\",\"landcolor\":\"#E5ECF6\",\"subunitcolor\":\"white\",\"showland\":true,\"showlakes\":true,\"lakecolor\":\"white\"},\"title\":{\"x\":0.05},\"mapbox\":{\"style\":\"light\"}}},\"geo\":{\"scope\":\"usa\"},\"title\":{\"text\":\"Demand by ZIP Code\"}},                        {\"responsive\": true}                    ).then(function(){\n",
       "                            \n",
       "var gd = document.getElementById('4e08d59d-6240-4919-bf27-038065cd4210');\n",
       "var x = new MutationObserver(function (mutations, observer) {{\n",
       "        var display = window.getComputedStyle(gd).display;\n",
       "        if (!display || display === 'none') {{\n",
       "            console.log([gd, 'removed!']);\n",
       "            Plotly.purge(gd);\n",
       "            observer.disconnect();\n",
       "        }}\n",
       "}});\n",
       "\n",
       "// Listen for the removal of the full notebook cells\n",
       "var notebookContainer = gd.closest('#notebook-container');\n",
       "if (notebookContainer) {{\n",
       "    x.observe(notebookContainer, {childList: true});\n",
       "}}\n",
       "\n",
       "// Listen for the clearing of the current output cell\n",
       "var outputEl = gd.closest('.output');\n",
       "if (outputEl) {{\n",
       "    x.observe(outputEl, {childList: true});\n",
       "}}\n",
       "\n",
       "                        })                };                });            </script>        </div>"
      ]
     },
     "metadata": {},
     "output_type": "display_data"
    }
   ],
   "source": [
    "fig = go.Figure(data=go.Scattergeo(\n",
    "        lon = zip_df_2b_int['Longitude'],\n",
    "        lat = zip_df_2b_int['Latitude'],\n",
    "        marker ={'color': zip_df_2b_int['Count'],'colorbar':{'title':'Top 10 Count'},'size':zip_df_2b_int['Count']*2,}))\n",
    "fig.update_layout(title = 'Demand by ZIP Code',geo_scope='usa',)\n",
    "fig.show()"
   ]
  },
  {
   "cell_type": "code",
   "execution_count": null,
   "id": "ff42077c",
   "metadata": {},
   "outputs": [],
   "source": []
  }
 ],
 "metadata": {
  "kernelspec": {
   "display_name": "Python 3",
   "language": "python",
   "name": "python3"
  },
  "language_info": {
   "codemirror_mode": {
    "name": "ipython",
    "version": 3
   },
   "file_extension": ".py",
   "mimetype": "text/x-python",
   "name": "python",
   "nbconvert_exporter": "python",
   "pygments_lexer": "ipython3",
   "version": "3.8.8"
  }
 },
 "nbformat": 4,
 "nbformat_minor": 5
}
