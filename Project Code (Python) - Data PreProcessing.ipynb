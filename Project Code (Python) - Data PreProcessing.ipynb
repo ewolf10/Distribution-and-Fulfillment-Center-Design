{
 "cells": [
  {
   "cell_type": "code",
   "execution_count": 1,
   "id": "a6b128d2",
   "metadata": {},
   "outputs": [],
   "source": [
    "import numpy as np\n",
    "import pandas as pd\n",
    "import matplotlib.pyplot as plt\n",
    "from geopy.geocoders import Nominatim\n",
    "from time import sleep\n",
    "import csv"
   ]
  },
  {
   "cell_type": "markdown",
   "id": "c68e568c",
   "metadata": {},
   "source": [
    "# Data Pre-Processing"
   ]
  },
  {
   "cell_type": "markdown",
   "id": "0a38ac24",
   "metadata": {},
   "source": [
    "Zip Code File - Adding Address Data (County, State)"
   ]
  },
  {
   "cell_type": "code",
   "execution_count": 2,
   "id": "9a5dc576",
   "metadata": {},
   "outputs": [],
   "source": [
    "zipcode_df = pd.read_csv('ISyE 6202 2022 Caseworks 3.1 and 3.2 ZIP3 US.csv')"
   ]
  },
  {
   "cell_type": "code",
   "execution_count": 2,
   "id": "6cc02cc2",
   "metadata": {},
   "outputs": [],
   "source": [
    "geolocator = Nominatim(user_agent=\"geoapiExercises\")"
   ]
  },
  {
   "cell_type": "code",
   "execution_count": 3,
   "id": "ad0b2ae8",
   "metadata": {},
   "outputs": [],
   "source": [
    "def georeverse(latitude, longitude):\n",
    "    \n",
    "    Latitude = latitude\n",
    "    Longitude = longitude\n",
    "    \n",
    "    location = geolocator.reverse(Latitude+\",\"+Longitude)\n",
    "    address = location.raw['address']\n",
    "    \n",
    "    latlong_to_state = address.get('state', '')\n",
    "    latlong_to_county = address.get('county','')\n",
    "    \n",
    "    return latlong_to_state, latlong_to_county"
   ]
  },
  {
   "cell_type": "code",
   "execution_count": 5,
   "id": "b50a4bad",
   "metadata": {},
   "outputs": [],
   "source": [
    "state_zipdf = []\n",
    "county_zipdf = []\n",
    "for i in range(len(zipcode_df)):\n",
    "    latlong_to_state, latlong_to_county = georeverse(str(zipcode_df.iloc[i][\"Lat\"]),str(zipcode_df.iloc[i][\"Lon\"]))\n",
    "    state_zipdf.append(latlong_to_state)\n",
    "    county_zipdf.append(latlong_to_county)\n",
    "    sleep(1)"
   ]
  },
  {
   "cell_type": "code",
   "execution_count": 45,
   "id": "2f2a459c",
   "metadata": {},
   "outputs": [],
   "source": [
    "zipcode_df['State'] = state_zipdf\n",
    "zipcode_df['County'] = county_zipdf\n",
    "\n",
    "state_abbreviation_df = pd.read_csv(\"State Abbreviations.csv\")\n",
    "state_abbreviation_dict = state_abbreviation_df.set_index('State')['Code'].to_dict()\n",
    "\n",
    "zipcode_df.loc[:,\"Abbreviation\"] = zipcode_df.loc[:,\"State\"]\n",
    "zipcode_df.replace({\"Abbreviation\":state_abbreviation_dict},inplace=True)"
   ]
  },
  {
   "cell_type": "code",
   "execution_count": 46,
   "id": "a3111d59",
   "metadata": {},
   "outputs": [],
   "source": [
    "zipcode_df.to_csv('Zip Code - Address Data.csv')"
   ]
  },
  {
   "cell_type": "markdown",
   "id": "bca5fefc",
   "metadata": {},
   "source": [
    "Distribution Center, Fulfillment Center File - Adding Address Data (Latitude, Longitude)"
   ]
  },
  {
   "cell_type": "code",
   "execution_count": 10,
   "id": "4565578e",
   "metadata": {},
   "outputs": [],
   "source": [
    "DC_FC_df = pd.read_csv('ISyE 6202 2022 Caseworks 3.1 and 3.2 Distribution and Fulfillment Centers.csv')"
   ]
  },
  {
   "cell_type": "code",
   "execution_count": 14,
   "id": "bb4a2468",
   "metadata": {},
   "outputs": [],
   "source": [
    "def geoforward(postalcode, country):\n",
    "    \n",
    "    location = geolocator.geocode(postalcode+\",\"+country)\n",
    "    \n",
    "    zip_to_latitude = location.latitude\n",
    "    zip_to_longitude = location.longitude\n",
    "    \n",
    "    return zip_to_latitude, zip_to_longitude"
   ]
  },
  {
   "cell_type": "code",
   "execution_count": 15,
   "id": "c3bf022b",
   "metadata": {},
   "outputs": [],
   "source": [
    "latitude_dcdf = []\n",
    "longitude_dcdf = []\n",
    "\n",
    "for i in range(len(DC_FC_df)):\n",
    "    zip_to_latitude, zip_to_longitude = geoforward(str(DC_FC_df.iloc[i][\"ZIP\"]),str(DC_FC_df.iloc[i][\"Country\"]))\n",
    "    latitude_dcdf.append(zip_to_latitude)\n",
    "    longitude_dcdf.append(zip_to_longitude)"
   ]
  },
  {
   "cell_type": "code",
   "execution_count": 17,
   "id": "5ba39966",
   "metadata": {},
   "outputs": [],
   "source": [
    "DC_FC_df['Latitude'] = latitude_dcdf\n",
    "DC_FC_df['Longitude'] = longitude_dcdf\n",
    "\n",
    "DC_FC_df.to_csv('DC, FC - Address Data.csv')"
   ]
  },
  {
   "cell_type": "markdown",
   "id": "bcd25382",
   "metadata": {},
   "source": [
    "Orders File - Adding Product Category, Price, State, Week, Day Columns"
   ]
  },
  {
   "cell_type": "code",
   "execution_count": 35,
   "id": "be130cd5",
   "metadata": {},
   "outputs": [],
   "source": [
    "orders_df = pd.read_csv('ISyE 6202 2022 Caseworks 3.1 and 3.2 Orders.csv')\n",
    "\n",
    "orders_df.loc[:,\"Price\"] = orders_df.loc[:,\"Product\"]\n",
    "orders_df.loc[:,\"State\"] = orders_df.loc[:,\"ZIP_3d\"]\n",
    "orders_df.loc[:,\"Category\"] = orders_df.loc[:,\"Product\"]\n",
    "#orders_df.loc[:,\"Week of Year\"] = orders_df.loc[:,\"Order_Date\"]\n",
    "#orders_df.loc[:,\"Day of Week\"] = orders_df.loc[:,\"Order_Date\"]"
   ]
  },
  {
   "cell_type": "code",
   "execution_count": 36,
   "id": "9d7eee52",
   "metadata": {},
   "outputs": [],
   "source": [
    "production_categorization_df = pd.read_csv('ISyE 6202 2022 Caseworks 3.1 and 3.2 MetaData-Product Categorization.csv')\n",
    "\n",
    "production_category_df = production_categorization_df.loc[:,\"Product\":\"Category\"]\n",
    "product_price_df = production_categorization_df.loc[:,[\"Product\",\"Price per unit (USD)\"]]\n",
    "zip2state_df = zipcode_df.loc[:,[\"ZIP3\",\"State\"]]\n",
    "\n",
    "product_cat_dict = production_category_df.set_index('Product')['Category'].to_dict()\n",
    "product_price_dict = product_price_df.set_index('Product')['Price per unit (USD)'].to_dict()\n",
    "state_dict = zip2state_df.set_index('ZIP3')['State'].to_dict()"
   ]
  },
  {
   "cell_type": "code",
   "execution_count": 37,
   "id": "5bf996dc",
   "metadata": {
    "collapsed": true
   },
   "outputs": [
    {
     "ename": "NameError",
     "evalue": "name 'day_of_week' is not defined",
     "output_type": "error",
     "traceback": [
      "\u001b[1;31m---------------------------------------------------------------------------\u001b[0m",
      "\u001b[1;31mNameError\u001b[0m                                 Traceback (most recent call last)",
      "\u001b[1;32m<ipython-input-37-50316d2b0bfb>\u001b[0m in \u001b[0;36m<module>\u001b[1;34m\u001b[0m\n\u001b[0;32m      8\u001b[0m     \u001b[0mweek_of_yeardf\u001b[0m\u001b[1;33m.\u001b[0m\u001b[0mappend\u001b[0m\u001b[1;33m(\u001b[0m\u001b[0mpd\u001b[0m\u001b[1;33m.\u001b[0m\u001b[0mTimestamp\u001b[0m\u001b[1;33m(\u001b[0m\u001b[0morders_df\u001b[0m\u001b[1;33m.\u001b[0m\u001b[0miloc\u001b[0m\u001b[1;33m[\u001b[0m\u001b[0mi\u001b[0m\u001b[1;33m]\u001b[0m\u001b[1;33m[\u001b[0m\u001b[1;34m\"Order_Date\"\u001b[0m\u001b[1;33m]\u001b[0m\u001b[1;33m)\u001b[0m\u001b[1;33m.\u001b[0m\u001b[0mweekofyear\u001b[0m\u001b[1;33m)\u001b[0m\u001b[1;33m\u001b[0m\u001b[1;33m\u001b[0m\u001b[0m\n\u001b[0;32m      9\u001b[0m \u001b[1;33m\u001b[0m\u001b[0m\n\u001b[1;32m---> 10\u001b[1;33m \u001b[0morders_df\u001b[0m\u001b[1;33m[\u001b[0m\u001b[1;34m\"Day of Week\"\u001b[0m\u001b[1;33m]\u001b[0m \u001b[1;33m=\u001b[0m \u001b[0mday_of_week\u001b[0m\u001b[1;33m\u001b[0m\u001b[1;33m\u001b[0m\u001b[0m\n\u001b[0m\u001b[0;32m     11\u001b[0m \u001b[0morders_df\u001b[0m\u001b[1;33m[\u001b[0m\u001b[1;34m\"Week of Year\"\u001b[0m\u001b[1;33m]\u001b[0m \u001b[1;33m=\u001b[0m \u001b[0mweek_of_year\u001b[0m\u001b[1;33m\u001b[0m\u001b[1;33m\u001b[0m\u001b[0m\n\u001b[0;32m     12\u001b[0m \u001b[1;33m\u001b[0m\u001b[0m\n",
      "\u001b[1;31mNameError\u001b[0m: name 'day_of_week' is not defined"
     ]
    }
   ],
   "source": [
    "orders_df.replace({\"Price\":product_price_dict, \"State\": state_dict, \"Category\":product_cat_dict},inplace=True)\n",
    "\n",
    "day_of_weekdf = []\n",
    "week_of_yeardf = []\n",
    "\n",
    "for i in range(len(orders_df)):\n",
    "    day_of_weekdf.append(pd.Timestamp(orders_df.iloc[i][\"Order_Date\"]).day_name())\n",
    "    week_of_yeardf.append(pd.Timestamp(orders_df.iloc[i][\"Order_Date\"]).weekofyear)"
   ]
  },
  {
   "cell_type": "code",
   "execution_count": 38,
   "id": "6bec51eb",
   "metadata": {},
   "outputs": [],
   "source": [
    "orders_df[\"Day of Week\"] = day_of_weekdf\n",
    "orders_df[\"Week of Year\"] = week_of_yeardf\n",
    "\n",
    "orders_df['Sales'] = orders_df['Price']*orders_df['Quantity']"
   ]
  },
  {
   "cell_type": "code",
   "execution_count": 39,
   "id": "e1cb1c1a",
   "metadata": {},
   "outputs": [],
   "source": [
    "orders_df.to_csv('Orders - MetaData.csv')"
   ]
  }
 ],
 "metadata": {
  "kernelspec": {
   "display_name": "Python 3",
   "language": "python",
   "name": "python3"
  },
  "language_info": {
   "codemirror_mode": {
    "name": "ipython",
    "version": 3
   },
   "file_extension": ".py",
   "mimetype": "text/x-python",
   "name": "python",
   "nbconvert_exporter": "python",
   "pygments_lexer": "ipython3",
   "version": "3.8.8"
  }
 },
 "nbformat": 4,
 "nbformat_minor": 5
}
