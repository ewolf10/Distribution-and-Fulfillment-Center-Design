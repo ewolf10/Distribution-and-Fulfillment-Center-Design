{
 "cells": [
  {
   "cell_type": "code",
   "execution_count": null,
   "id": "5ca86ada",
   "metadata": {},
   "outputs": [],
   "source": [
    "import numpy as np\n",
    "import pandas as pd\n",
    "import matplotlib.pyplot as plt\n",
    "import seaborn as sns"
   ]
  },
  {
   "cell_type": "markdown",
   "id": "4c9b38b3",
   "metadata": {},
   "source": [
    "# Scenario Inputs: Distribution, Coefficient of Variation, and Random # Seeds"
   ]
  },
  {
   "cell_type": "code",
   "execution_count": null,
   "id": "2a1f60c4",
   "metadata": {},
   "outputs": [],
   "source": [
    "#Growth \n",
    "np.random.seed(18)\n",
    "initial = np.rint(np.random.normal(56181922,16.248))\n",
    "b = [1.35,1.5,1.55] \n",
    "c = [1.8,2,2.1]\n",
    "d = [2.7,3,3.15]"
   ]
  },
  {
   "cell_type": "code",
   "execution_count": null,
   "id": "ab257271",
   "metadata": {},
   "outputs": [],
   "source": [
    "#Coefficient of Variation\n",
    "cv_w = 0.2\n",
    "cv_d = 0.2\n",
    "cv_p = 0.2\n",
    "cv_z = 0.2"
   ]
  },
  {
   "cell_type": "code",
   "execution_count": null,
   "id": "2eb3acce",
   "metadata": {},
   "outputs": [],
   "source": [
    "#Random Number Seeds\n",
    "j = 7\n",
    "e = 8\n",
    "f = 9\n",
    "g = 10\n",
    "h = 11\n",
    "i = 12"
   ]
  },
  {
   "cell_type": "markdown",
   "id": "d5a2b27b",
   "metadata": {},
   "source": [
    "Reference Lists, Dictionaries, Functions"
   ]
  },
  {
   "cell_type": "code",
   "execution_count": null,
   "id": "6601c8cf",
   "metadata": {},
   "outputs": [],
   "source": [
    "week_share = pd.read_csv(\"Weekly Demand Share.csv\")['Share'].to_numpy()\n",
    "week = pd.read_csv(\"Weekly Demand Share.csv\")['Week'].to_numpy()\n",
    "\n",
    "product_share = pd.read_csv('Product Demand Share.csv')['Share'].to_numpy()\n",
    "product = pd.read_csv('Product Demand Share.csv')['Product'].to_numpy()\n",
    "\n",
    "zipcode_share = pd.read_csv(\"Zip Code Demand Share.csv\")['Share'].to_numpy()\n",
    "zipcode = pd.read_csv(\"Zip Code Demand Share.csv\")['Zip Code'].to_numpy()\n",
    "\n",
    "day_share = pd.read_csv(\"Day Demand Share.csv\")['Share'].to_numpy()\n",
    "day = pd.read_csv(\"Day Demand Share.csv\")['Day'].to_numpy()\n",
    "\n",
    "days_of_year = pd.read_csv(\"Date.csv\")['Index'].to_numpy()\n",
    "years = [\"2023\",\"2024\",\"2025\",\"2026\",\"2027\",\"2028\"]\n",
    "\n",
    "FC = pd.read_csv(\"FC - Address Data.csv\")['City'].to_numpy()\n",
    "DC = ['Savannah','Jurupa Valley']\n",
    "\n",
    "sub_cat = [\"Fast\", \"Med\", \"Slow\"]"
   ]
  },
  {
   "cell_type": "code",
   "execution_count": null,
   "id": "a5367af0",
   "metadata": {},
   "outputs": [],
   "source": [
    "zipcode_FC_df = pd.read_csv(\"Fulfillment Center Assignment.csv\")\n",
    "zipcode_FC_dict = zipcode_FC_df.set_index('ZIP3')['City'].to_dict()\n",
    "\n",
    "production_subcat_df = pd.read_csv('ISyE 6202 2022 Caseworks 3.1 and 3.2 MetaData-Product Categorization.csv')\n",
    "product_subcat_dict = production_subcat_df.set_index('Product')['Sub-category'].to_dict()\n",
    "\n",
    "FC_DC_df = pd.read_csv(\"Distribution Center Assignment.csv\") \n",
    "FC_DC_dict = FC_DC_df.set_index('FC City')['DC City'].to_dict() "
   ]
  },
  {
   "cell_type": "code",
   "execution_count": null,
   "id": "29e94547",
   "metadata": {},
   "outputs": [],
   "source": [
    "def rand_growth(seed, demand_in_2023, b, c, d):\n",
    "    np.random.seed(seed)\n",
    "    rand_demandgrowth = np.empty(len(years))\n",
    "    rand_demandgrowth[0] = demand_in_2023                    \n",
    "    rand_growth = [1, np.random.triangular(b[0],b[1],b[2]), np.random.triangular(c[0],c[1],c[2]), 0, 0, np.random.triangular(d[0],d[1],d[2])]\n",
    "    rand_growth[3] = rand_growth[2]+((rand_growth[5]-rand_growth[2])/3)\n",
    "    rand_growth[4] = rand_growth[2]+(2*(rand_growth[5]-rand_growth[2])/3)\n",
    "\n",
    "    for i in range(1,len(years)):\n",
    "        rand_demandgrowth[i] = np.rint(rand_demandgrowth[0]*rand_growth[i])\n",
    "    return rand_demandgrowth"
   ]
  },
  {
   "cell_type": "code",
   "execution_count": null,
   "id": "b91be6ff",
   "metadata": {},
   "outputs": [],
   "source": [
    "def rand_week(seed):\n",
    "    np.random.seed(seed)\n",
    "    week_rand = np.empty(len(week))\n",
    "    for i in range(len(week)):\n",
    "        week_rand[i] = np.random.normal(week_share[i],week_std[i]) \n",
    "    x1 = np.sum(week_rand)\n",
    "    for i in range(len(week)):\n",
    "        week_rand[i] = week_rand[i]/x1\n",
    "    return week_rand.reshape((52))"
   ]
  },
  {
   "cell_type": "code",
   "execution_count": null,
   "id": "74f43dbe",
   "metadata": {},
   "outputs": [],
   "source": [
    "def rand_day(seed):\n",
    "    np.random.seed(seed)\n",
    "    day_rand = np.empty((len(day)))\n",
    "    for i in range(len(day)):\n",
    "        day_rand[i] = np.random.normal(day_share[i],day_std[i]) \n",
    "    x2 = np.sum(day_rand)\n",
    "    for i in range(len(day)):\n",
    "        day_rand[i] = day_rand[i]/x2\n",
    "    return day_rand.reshape((7))"
   ]
  },
  {
   "cell_type": "code",
   "execution_count": null,
   "id": "6eba1a66",
   "metadata": {},
   "outputs": [],
   "source": [
    "def rand_product(seed):\n",
    "    np.random.seed(seed)\n",
    "    product_rand = np.empty((len(product)))\n",
    "    for i in range(len(product)):\n",
    "        product_rand[i] = np.random.normal(product_share[i],product_std[i]) \n",
    "    x3 = np.sum(product_rand)\n",
    "    for i in range(len(product)):\n",
    "        product_rand[i] = product_rand[i]/x3\n",
    "    return product_rand.reshape((586))"
   ]
  },
  {
   "cell_type": "code",
   "execution_count": null,
   "id": "a92fbb1a",
   "metadata": {},
   "outputs": [],
   "source": [
    "def rand_zipcode(seed):\n",
    "    np.random.seed(seed)\n",
    "    zipcode_rand = np.empty((len(zipcode)))\n",
    "    for i in range(len(zipcode)):\n",
    "        zipcode_rand[i] = np.random.normal(zipcode_share[i],zipcode_std[i]) \n",
    "    x4 = np.sum(zipcode_rand)\n",
    "    for i in range(len(zipcode)):\n",
    "        zipcode_rand[i] = zipcode_rand[i]/x4\n",
    "    return zipcode_rand.reshape((890))"
   ]
  },
  {
   "cell_type": "markdown",
   "id": "f332fa65",
   "metadata": {},
   "source": [
    "# Customer Orders"
   ]
  },
  {
   "cell_type": "code",
   "execution_count": null,
   "id": "58c10890",
   "metadata": {},
   "outputs": [],
   "source": [
    "np.random.seed(4) \n",
    "seed = np.random.randint(100,size=100)"
   ]
  },
  {
   "cell_type": "code",
   "execution_count": null,
   "id": "069d4613",
   "metadata": {},
   "outputs": [],
   "source": [
    "simulator_demandgrowth = rand_growth(12,initial,b,c,d)"
   ]
  },
  {
   "cell_type": "code",
   "execution_count": 56,
   "id": "c552a93e",
   "metadata": {},
   "outputs": [
    {
     "data": {
      "text/plain": [
       "array([5.61819230e+07, 7.96663330e+07, 1.13020659e+08, 1.29441693e+08,\n",
       "       1.45862727e+08, 1.62283761e+08])"
      ]
     },
     "execution_count": 56,
     "metadata": {},
     "output_type": "execute_result"
    }
   ],
   "source": [
    "simulator_demandgrowth"
   ]
  },
  {
   "cell_type": "code",
   "execution_count": null,
   "id": "d31c8e2d",
   "metadata": {},
   "outputs": [],
   "source": [
    "week_std = np.dot(week_share,cv_w)\n",
    "product_std = np.dot(product_share,cv_p)\n",
    "zipcode_std = np.dot(zipcode_share,cv_z)\n",
    "day_std = np.dot(day_share, cv_d)"
   ]
  },
  {
   "cell_type": "code",
   "execution_count": null,
   "id": "49d6efc6",
   "metadata": {},
   "outputs": [],
   "source": [
    "week_share = [rand_week(seed[j]), rand_week(e), rand_week(f), rand_week(g), rand_week(h), rand_week(i)]\n",
    "day_share = [rand_day(seed[j]), rand_day(e), rand_day(f), rand_day(g), rand_day(h), rand_day(i)]\n",
    "product_share = [rand_product(seed[j]), rand_product(e), rand_product(f), rand_product(g), rand_product(h), rand_product(i)]\n",
    "zipcode_share = [rand_zipcode(seed[j]), rand_zipcode(e), rand_zipcode(f), rand_zipcode(g), rand_zipcode(h), rand_zipcode(i)]"
   ]
  },
  {
   "cell_type": "code",
   "execution_count": null,
   "id": "07eec292",
   "metadata": {},
   "outputs": [],
   "source": [
    "days_of_year_share = [np.empty((len(week),len(day))),np.empty((len(week),len(day))),np.empty((len(week),len(day))),np.empty((len(week),len(day))),np.empty((len(week),len(day))),np.empty((len(week),len(day)))]\n",
    "for i in range(len(years)):\n",
    "    for j in range(len(week)):\n",
    "        for k in range(len(day)):\n",
    "            days_of_year_share[i][j,k] = week_share[i][j]*day_share[i][k]\n",
    "            \n",
    "for i in range(len(years)):\n",
    "    days_of_year_share[i].resize((364))"
   ]
  },
  {
   "cell_type": "code",
   "execution_count": null,
   "id": "e1e121cf",
   "metadata": {},
   "outputs": [],
   "source": [
    "simulator_total_share = [np.empty((len(days_of_year),len(product),len(zipcode))),np.empty((len(days_of_year),len(product),len(zipcode))),np.empty((len(days_of_year),len(product),len(zipcode))),np.empty((len(days_of_year),len(product),len(zipcode))),np.empty((len(days_of_year),len(product),len(zipcode))),np.empty((len(days_of_year),len(product),len(zipcode)))]\n",
    "for i in range(len(years)):\n",
    "    for j in range(len(days_of_year)):\n",
    "        for k in range(len(product)):\n",
    "            for l in range(len(zipcode)):\n",
    "                simulator_total_share[i][j,k,l] = days_of_year_share[i][j]*product_share[i][k]*zipcode_share[i][l]"
   ]
  },
  {
   "cell_type": "code",
   "execution_count": null,
   "id": "4b69353f",
   "metadata": {},
   "outputs": [],
   "source": [
    "demand_2023 = np.rint(simulator_demandgrowth[0]*simulator_total_share[0])\n",
    "demand_2024 = np.rint(simulator_demandgrowth[1]*simulator_total_share[1])\n",
    "demand_2025 = np.rint(simulator_demandgrowth[2]*simulator_total_share[2])\n",
    "demand_2026 = np.rint(simulator_demandgrowth[3]*simulator_total_share[3])\n",
    "demand_2027 = np.rint(simulator_demandgrowth[4]*simulator_total_share[4])\n",
    "demand_2028 = np.rint(simulator_demandgrowth[5]*simulator_total_share[5])"
   ]
  },
  {
   "cell_type": "code",
   "execution_count": null,
   "id": "888269d0",
   "metadata": {},
   "outputs": [],
   "source": [
    "forecast_2023 = np.empty((len(days_of_year), len(product), len(zipcode)))\n",
    "temp = np.zeros((len(product),len(zipcode)))\n",
    "\n",
    "for j in range(len(days_of_year)):\n",
    "    for k in range(len(product)):\n",
    "        for l in range(len(zipcode)):    \n",
    "            a = demand_2023[j,k,l] + temp[k,l]\n",
    "            if a>=50:\n",
    "                forecast_2023[j,k,l] = a\n",
    "                temp[k,l] = 0\n",
    "                a = 0 \n",
    "            else: \n",
    "                forecast_2023[j,k,l] = 0\n",
    "                temp[k,l] = a\n",
    "                a = 0"
   ]
  },
  {
   "cell_type": "code",
   "execution_count": null,
   "id": "f7264459",
   "metadata": {},
   "outputs": [],
   "source": [
    "forecast_2024 = np.empty((len(days_of_year), len(product), len(zipcode)))\n",
    "temp = np.zeros((len(product),len(zipcode)))\n",
    "              \n",
    "for j in range(len(days_of_year)):\n",
    "    for k in range(len(product)):\n",
    "        for l in range(len(zipcode)):    \n",
    "            a = demand_2024[j,k,l] + temp[k,l]\n",
    "            if a>=50:\n",
    "                forecast_2024[j,k,l] = a\n",
    "                temp[k,l] = 0\n",
    "                a = 0 \n",
    "            else: \n",
    "                forecast_2024[j,k,l] = 0\n",
    "                temp[k,l] = a\n",
    "                a = 0"
   ]
  },
  {
   "cell_type": "code",
   "execution_count": null,
   "id": "77c20abb",
   "metadata": {},
   "outputs": [],
   "source": [
    "forecast_2025 = np.empty((len(days_of_year), len(product), len(zipcode)))\n",
    "temp = np.zeros((len(product),len(zipcode)))\n",
    "              \n",
    "for j in range(len(days_of_year)):\n",
    "    for k in range(len(product)):\n",
    "        for l in range(len(zipcode)):    \n",
    "            a = demand_2025[j,k,l] + temp[k,l]\n",
    "            if a>=50:\n",
    "                forecast_2025[j,k,l] = a\n",
    "                temp[k,l] = 0\n",
    "                a = 0 \n",
    "            else: \n",
    "                forecast_2025[j,k,l] = 0\n",
    "                temp[k,l] = a\n",
    "                a = 0"
   ]
  },
  {
   "cell_type": "code",
   "execution_count": null,
   "id": "133ad7d5",
   "metadata": {},
   "outputs": [],
   "source": [
    "forecast_2026 = np.empty((len(days_of_year), len(product), len(zipcode)))\n",
    "temp = np.zeros((len(product),len(zipcode)))\n",
    "              \n",
    "for j in range(len(days_of_year)):\n",
    "    for k in range(len(product)):\n",
    "        for l in range(len(zipcode)):    \n",
    "            a = demand_2026[j,k,l] + temp[k,l]\n",
    "            if a>=25:\n",
    "                forecast_2026[j,k,l] = a\n",
    "                temp[k,l] = 0\n",
    "                a = 0 \n",
    "            else: \n",
    "                forecast_2026[j,k,l] = 0\n",
    "                temp[k,l] = a\n",
    "                a = 0"
   ]
  },
  {
   "cell_type": "code",
   "execution_count": null,
   "id": "319bbe48",
   "metadata": {},
   "outputs": [],
   "source": [
    "forecast_2027 = np.empty((len(days_of_year), len(product), len(zipcode)))\n",
    "temp = np.zeros((len(product),len(zipcode)))\n",
    "              \n",
    "for j in range(len(days_of_year)):\n",
    "    for k in range(len(product)):\n",
    "        for l in range(len(zipcode)):    \n",
    "            a = demand_2027[j,k,l] + temp[k,l]\n",
    "            if a>=25:\n",
    "                forecast_2027[j,k,l] = a\n",
    "                temp[k,l] = 0\n",
    "                a = 0 \n",
    "            else: \n",
    "                forecast_2027[j,k,l] = 0\n",
    "                temp[k,l] = a\n",
    "                a = 0"
   ]
  },
  {
   "cell_type": "code",
   "execution_count": null,
   "id": "8ac027c6",
   "metadata": {},
   "outputs": [],
   "source": [
    "forecast_2028 = np.empty((len(days_of_year), len(product), len(zipcode)))\n",
    "temp = np.zeros((len(product),len(zipcode)))\n",
    "              \n",
    "for j in range(len(days_of_year)):\n",
    "    for k in range(len(product)):\n",
    "        for l in range(len(zipcode)):    \n",
    "            a = demand_2028[j,k,l] + temp[k,l]\n",
    "            if a>=25:\n",
    "                forecast_2028[j,k,l] = a\n",
    "                temp[k,l] = 0\n",
    "                a = 0 \n",
    "            else: \n",
    "                forecast_2028[j,k,l] = 0\n",
    "                temp[k,l] = a\n",
    "                a = 0"
   ]
  },
  {
   "cell_type": "code",
   "execution_count": null,
   "id": "60d8122c",
   "metadata": {},
   "outputs": [],
   "source": [
    "names = ['Day','Product','Zipcode']\n",
    "index = pd.MultiIndex.from_product([days_of_year, product, zipcode], names = names)\n",
    "\n",
    "df23 = pd.DataFrame({'Quantity': forecast_2023.flatten()},index=index)\n",
    "df23 = df23.reset_index()\n",
    "df23 = df23.loc[df23['Quantity']!=0]\n",
    "\n",
    "df24 = pd.DataFrame({'Quantity': forecast_2024.flatten()},index=index)\n",
    "df24 = df24.reset_index()\n",
    "df24 = df24.loc[df24['Quantity']!=0]\n",
    "\n",
    "df25 = pd.DataFrame({'Quantity': forecast_2025.flatten()},index=index)\n",
    "df25 = df25.reset_index()\n",
    "df25 = df25.loc[df25['Quantity']!=0]\n",
    "\n",
    "df26 = pd.DataFrame({'Quantity': forecast_2026.flatten()},index=index)\n",
    "df26 = df26.reset_index()\n",
    "df26 = df26.loc[df26['Quantity']!=0]\n",
    "\n",
    "df27 = pd.DataFrame({'Quantity': forecast_2027.flatten()},index=index)\n",
    "df27 = df27.reset_index()\n",
    "df27 = df27.loc[df27['Quantity']!=0]\n",
    "\n",
    "df28 = pd.DataFrame({'Quantity': forecast_2028.flatten()},index=index)\n",
    "df28 = df28.reset_index()\n",
    "df28 = df28.loc[df28['Quantity']!=0]"
   ]
  },
  {
   "cell_type": "code",
   "execution_count": null,
   "id": "7127306d",
   "metadata": {},
   "outputs": [],
   "source": [
    "df23.to_csv(\"Simulated Demand 2023.csv\", index=False)\n",
    "df24.to_csv(\"Simulated Demand 2024.csv\", index=False)\n",
    "df25.to_csv(\"Simulated Demand 2025.csv\", index=False)\n",
    "df26.to_csv(\"Simulated Demand 2026.csv\", index=False)\n",
    "df27.to_csv(\"Simulated Demand 2027.csv\", index=False)\n",
    "df28.to_csv(\"Simulated Demand 2028.csv\", index=False)"
   ]
  },
  {
   "cell_type": "markdown",
   "id": "fb1287b7",
   "metadata": {},
   "source": [
    "Order Data Metrics"
   ]
  },
  {
   "cell_type": "code",
   "execution_count": null,
   "id": "c7da6ec2",
   "metadata": {
    "scrolled": true
   },
   "outputs": [],
   "source": [
    "total = [df23['Quantity'].sum(), df24['Quantity'].sum(),df25['Quantity'].sum(),df26['Quantity'].sum(),df27['Quantity'].sum(),df28['Quantity'].sum()]\n",
    "plt.plot(years, np.array(total))\n",
    "plt.xlabel('Years')\n",
    "plt.ylabel('Demanded Units')\n",
    "plt.show()\n",
    "print(total)"
   ]
  },
  {
   "cell_type": "code",
   "execution_count": null,
   "id": "e6670a6b",
   "metadata": {
    "scrolled": true
   },
   "outputs": [],
   "source": [
    "count_df = pd.DataFrame([['2023', df23['Quantity'].count()],['2024', df24['Quantity'].count()],['2025', df25['Quantity'].count()],['2026', df26['Quantity'].count()],['2027', df27['Quantity'].count()],['2028', df28['Quantity'].count()]], columns=[\"Year\",\"Orders\"])\n",
    "print(count_df)\n",
    "sns.barplot(x = count_df['Year'],y= count_df['Orders'])\n",
    "plt.show()"
   ]
  },
  {
   "cell_type": "code",
   "execution_count": null,
   "id": "26b4b7fe",
   "metadata": {},
   "outputs": [],
   "source": [
    "df28_P = df28.groupby(['Product']).sum()\n",
    "top_products = df28_P.sort_values(by=['Quantity'], ascending=False).head(10)\n",
    "print(top_products['Quantity'])"
   ]
  },
  {
   "cell_type": "code",
   "execution_count": null,
   "id": "41f5864f",
   "metadata": {
    "scrolled": true
   },
   "outputs": [],
   "source": [
    "df28_Z = df28.groupby(['Zipcode']).sum()\n",
    "top_zipcodes = df28_Z.sort_values(by=['Quantity'],ascending=False).head(10)\n",
    "print(top_zipcodes['Quantity'])"
   ]
  },
  {
   "cell_type": "markdown",
   "id": "80cb997c",
   "metadata": {},
   "source": [
    "# FC Orders"
   ]
  },
  {
   "cell_type": "code",
   "execution_count": null,
   "id": "3b391e45",
   "metadata": {},
   "outputs": [],
   "source": [
    "forecast_2023 = df23\n",
    "forecast_2023.loc[:,\"Sub-Category\"] = forecast_2023.loc[:,\"Product\"]\n",
    "forecast_2023.loc[:,\"FC\"] = forecast_2023.loc[:,\"Zipcode\"]\n",
    "forecast_2023.replace({\"Sub-Category\":product_subcat_dict, \"FC\": zipcode_FC_dict}, inplace=True)\n",
    "forecast_2023 = forecast_2023.drop(columns=['Zipcode'])\n",
    "std_2023 = forecast_2023['Quantity'].std()\n",
    "forecast_2023['Quantity'] = np.rint(forecast_2023['Quantity'].add(2.57*std_2023))\n",
    "\n",
    "forecast_2024 = df24\n",
    "forecast_2024.loc[:,\"Sub-Category\"] = forecast_2024.loc[:,\"Product\"]\n",
    "forecast_2024.loc[:,\"FC\"] = forecast_2024.loc[:,\"Zipcode\"]\n",
    "forecast_2024.replace({\"Sub-Category\":product_subcat_dict, \"FC\": zipcode_FC_dict}, inplace=True)\n",
    "forecast_2024 = forecast_2024.drop(columns=['Zipcode'])\n",
    "std_2024 = forecast_2024['Quantity'].std()\n",
    "forecast_2024['Quantity'] = np.rint(forecast_2024['Quantity'].add(2.57*std_2024))\n",
    "\n",
    "forecast_2025 = df25\n",
    "forecast_2025.loc[:,\"Sub-Category\"] = forecast_2025.loc[:,\"Product\"]\n",
    "forecast_2025.loc[:,\"FC\"] = forecast_2025.loc[:,\"Zipcode\"]\n",
    "forecast_2025.replace({\"Sub-Category\":product_subcat_dict, \"FC\": zipcode_FC_dict}, inplace=True)\n",
    "forecast_2025 = forecast_2025.drop(columns=['Zipcode'])\n",
    "std_2025 = forecast_2025['Quantity'].std()\n",
    "forecast_2025['Quantity'] = np.rint(forecast_2025['Quantity'].add(2.57*std_2025))\n",
    "\n",
    "forecast_2026 = df26\n",
    "forecast_2026.loc[:,\"Sub-Category\"] = forecast_2026.loc[:,\"Product\"]\n",
    "forecast_2026.loc[:,\"FC\"] = forecast_2026.loc[:,\"Zipcode\"]\n",
    "forecast_2026.replace({\"Sub-Category\":product_subcat_dict, \"FC\": zipcode_FC_dict}, inplace=True)\n",
    "forecast_2026 = forecast_2026.drop(columns=['Zipcode'])\n",
    "std_2026 = forecast_2026['Quantity'].std()\n",
    "forecast_2026['Quantity'] = np.rint(forecast_2026['Quantity'].add(2.57*std_2026))\n",
    "\n",
    "forecast_2027 = df27\n",
    "forecast_2027.loc[:,\"Sub-Category\"] = forecast_2027.loc[:,\"Product\"]\n",
    "forecast_2027.loc[:,\"FC\"] = forecast_2027.loc[:,\"Zipcode\"]\n",
    "forecast_2027.replace({\"Sub-Category\":product_subcat_dict, \"FC\": zipcode_FC_dict}, inplace=True)\n",
    "forecast_2027 = forecast_2027.drop(columns=['Zipcode'])\n",
    "std_2027 = forecast_2027['Quantity'].std()\n",
    "forecast_2027['Quantity'] = np.rint(forecast_2027['Quantity'].add(2.57*std_2027))\n",
    "\n",
    "forecast_2028 = df28\n",
    "forecast_2028.loc[:,\"Sub-Category\"] = forecast_2028.loc[:,\"Product\"]\n",
    "forecast_2028.loc[:,\"FC\"] = forecast_2028.loc[:,\"Zipcode\"]\n",
    "forecast_2028.replace({\"Sub-Category\":product_subcat_dict, \"FC\": zipcode_FC_dict}, inplace=True)\n",
    "forecast_2028 = forecast_2028.drop(columns=['Zipcode'])\n",
    "std_2028 = forecast_2028['Quantity'].std()\n",
    "forecast_2028['Quantity'] = np.rint(forecast_2028['Quantity'].add(2.57*std_2028))"
   ]
  },
  {
   "cell_type": "code",
   "execution_count": null,
   "id": "7a02e800",
   "metadata": {},
   "outputs": [],
   "source": [
    "FC_demand_2023 = forecast_2023.groupby(['FC','Day','Product']).sum()\n",
    "df23_FC = FC_demand_2023.reset_index()\n",
    "\n",
    "FC_demand_2024 = forecast_2024.groupby(['FC','Day','Product']).sum()\n",
    "df24_FC = FC_demand_2024.reset_index()\n",
    "\n",
    "FC_demand_2025 = forecast_2025.groupby(['FC','Day','Product']).sum()\n",
    "df25_FC = FC_demand_2025.reset_index()\n",
    "\n",
    "FC_demand_2026 = forecast_2026.groupby(['FC','Day','Product']).sum()\n",
    "df26_FC = FC_demand_2026.reset_index()\n",
    "\n",
    "FC_demand_2027 = forecast_2027.groupby(['FC','Day','Product']).sum()\n",
    "df27_FC = FC_demand_2027.reset_index()\n",
    "\n",
    "FC_demand_2028 = forecast_2028.groupby(['FC','Day','Product']).sum()\n",
    "df28_FC = FC_demand_2028.reset_index()"
   ]
  },
  {
   "cell_type": "code",
   "execution_count": null,
   "id": "fc4ed0ab",
   "metadata": {},
   "outputs": [],
   "source": [
    "df23_FC.to_csv(\"Simulated FC Robust Demand 2023.csv\", index=False)\n",
    "df24_FC.to_csv(\"Simulated FC Robust Demand 2024.csv\", index=False)\n",
    "df25_FC.to_csv(\"Simulated FC Robust Demand 2025.csv\", index=False)\n",
    "df26_FC.to_csv(\"Simulated FC Robust Demand 2026.csv\", index=False)\n",
    "df27_FC.to_csv(\"Simulated FC Robust Demand 2027.csv\", index=False)\n",
    "df28_FC.to_csv(\"Simulated FC Robust Demand 2028.csv\", index=False)"
   ]
  },
  {
   "cell_type": "markdown",
   "id": "c7a38a8c",
   "metadata": {},
   "source": [
    "FC Demand Metrics:"
   ]
  },
  {
   "cell_type": "code",
   "execution_count": null,
   "id": "a432360f",
   "metadata": {},
   "outputs": [],
   "source": [
    "writer = pd.ExcelWriter(\"3c Metrics.xlsx\")\n",
    "forecast_2023.groupby(['FC','Day']).sum()['Quantity'].to_excel(writer, sheet_name = \"2023\")\n",
    "forecast_2024.groupby(['FC','Day']).sum()['Quantity'].to_excel(writer, sheet_name = \"2024\")\n",
    "forecast_2025.groupby(['FC','Day']).sum()['Quantity'].to_excel(writer, sheet_name = \"2025\")\n",
    "forecast_2026.groupby(['FC','Day']).sum()['Quantity'].to_excel(writer, sheet_name = \"2026\")\n",
    "forecast_2027.groupby(['FC','Day']).sum()['Quantity'].to_excel(writer, sheet_name = \"2027\")\n",
    "forecast_2028.groupby(['FC','Day']).sum()['Quantity'].to_excel(writer, sheet_name = \"2028\")\n",
    "writer.save()"
   ]
  },
  {
   "cell_type": "markdown",
   "id": "1c13f736",
   "metadata": {},
   "source": [
    "# FC Inventory"
   ]
  },
  {
   "cell_type": "code",
   "execution_count": null,
   "id": "da5c5877",
   "metadata": {},
   "outputs": [],
   "source": [
    "empty_index = pd.MultiIndex.from_product([FC,days_of_year,product],names=['FC','Day','Product'])\n",
    "\n",
    "FC_inventory_2023 = FC_demand_2023.reindex(empty_index,fill_value=0)\n",
    "FC_inventory_2023.index = FC_inventory_2023.index.swaplevel(1,2)\n",
    "FC_inventory_2023.sort_index(inplace=True)\n",
    "\n",
    "FC_inventory_2024 = FC_demand_2024.reindex(empty_index,fill_value=0)\n",
    "FC_inventory_2024.index = FC_inventory_2024.index.swaplevel(1,2)\n",
    "FC_inventory_2024.sort_index(inplace=True)\n",
    "\n",
    "FC_inventory_2025 = FC_demand_2025.reindex(empty_index,fill_value=0)\n",
    "FC_inventory_2025.index = FC_inventory_2025.index.swaplevel(1,2)\n",
    "FC_inventory_2025.sort_index(inplace=True)\n",
    "\n",
    "FC_inventory_2026 = FC_demand_2026.reindex(empty_index,fill_value=0)\n",
    "FC_inventory_2026.index = FC_inventory_2026.index.swaplevel(1,2)\n",
    "FC_inventory_2026.sort_index(inplace=True)\n",
    "\n",
    "FC_inventory_2027 = FC_demand_2027.reindex(empty_index,fill_value=0)\n",
    "FC_inventory_2027.index = FC_inventory_2027.index.swaplevel(1,2)\n",
    "FC_inventory_2027.sort_index(inplace=True)\n",
    "\n",
    "FC_inventory_2028 = FC_demand_2028.reindex(empty_index,fill_value=0)\n",
    "FC_inventory_2028.index = FC_inventory_2028.index.swaplevel(1,2)\n",
    "FC_inventory_2028.sort_index(inplace=True)"
   ]
  },
  {
   "cell_type": "code",
   "execution_count": null,
   "id": "04dbbd11",
   "metadata": {},
   "outputs": [],
   "source": [
    "inv_2023 = FC_inventory_2023.groupby(level=[0,1],group_keys=False).rolling(20).sum().shift(-20)\n",
    "inv_2023.reset_index()\n",
    "inventory_2023 = inv_2023['Quantity'].to_numpy()\n",
    "\n",
    "inv_2024 = FC_inventory_2024.groupby(level=[0,1],group_keys=False).rolling(20).sum().shift(-20)\n",
    "inv_2024.reset_index()\n",
    "inventory_2024 = inv_2024['Quantity'].to_numpy()\n",
    "\n",
    "inv_2025 = FC_inventory_2025.groupby(level=[0,1],group_keys=False).rolling(20).sum().shift(-20)\n",
    "inv_2025.reset_index()\n",
    "inventory_2025 = inv_2025['Quantity'].to_numpy()\n",
    "\n",
    "inv_2026 = FC_inventory_2026.groupby(level=[0,1],group_keys=False).rolling(20).sum().shift(-20)\n",
    "inv_2026.reset_index()\n",
    "inventory_2026 = inv_2026['Quantity'].to_numpy()\n",
    "\n",
    "inv_2027 = FC_inventory_2027.groupby(level=[0,1],group_keys=False).rolling(20).sum().shift(-20)\n",
    "inv_2027.reset_index()\n",
    "inventory_2027 = inv_2027['Quantity'].to_numpy()\n",
    "\n",
    "inv_2028 = FC_inventory_2028.groupby(level=[0,1],group_keys=False).rolling(20).sum().shift(-20)\n",
    "inv_2028.reset_index()\n",
    "inventory_2028 = inv_2028['Quantity'].to_numpy()"
   ]
  },
  {
   "cell_type": "code",
   "execution_count": null,
   "id": "e12bfd17",
   "metadata": {},
   "outputs": [],
   "source": [
    "for j in range(1,len(FC)+1):\n",
    "    for i in range(len(product)):\n",
    "        x= j*((i*364)+344)\n",
    "        y= j*((i*364)+363)\n",
    "        w= j*((i*364)+1)\n",
    "        z= j*((i*364)+20)\n",
    "        inventory_2023[x:y] = inventory_2023[w:z]\n",
    "        inventory_2024[x:y] = inventory_2024[w:z]\n",
    "        inventory_2025[x:y] = inventory_2025[w:z]\n",
    "        inventory_2026[x:y] = inventory_2026[w:z]\n",
    "        inventory_2027[x:y] = inventory_2027[w:z]\n",
    "        inventory_2028[x:y] = inventory_2028[w:z]"
   ]
  },
  {
   "cell_type": "code",
   "execution_count": null,
   "id": "8eb87a8f",
   "metadata": {},
   "outputs": [],
   "source": [
    "inventory_2023 = np.nan_to_num(inventory_2023)\n",
    "inventory_2024 = np.nan_to_num(inventory_2024)\n",
    "inventory_2025 = np.nan_to_num(inventory_2025)\n",
    "inventory_2026 = np.nan_to_num(inventory_2026)\n",
    "inventory_2027 = np.nan_to_num(inventory_2027)\n",
    "inventory_2028 = np.nan_to_num(inventory_2028)"
   ]
  },
  {
   "cell_type": "code",
   "execution_count": null,
   "id": "8a6b0f70",
   "metadata": {},
   "outputs": [],
   "source": [
    "FC_inventory_2023['Safety Stock'] = inventory_2023\n",
    "FC_inventory_2023['Inventory'] = FC_inventory_2023['Quantity'].multiply(7)+FC_inventory_2023['Safety Stock']\n",
    "FC_inventory_2023 = FC_inventory_2023.drop(columns=['Quantity','Safety Stock'])\n",
    "max_23 = FC_inventory_2023\n",
    "FC_inventory_2023 = FC_inventory_2023.unstack(level='Day')\n",
    "\n",
    "FC_inventory_2024['Safety Stock'] = inventory_2024\n",
    "FC_inventory_2024['Inventory'] = FC_inventory_2024['Quantity'].multiply(7)+FC_inventory_2024['Safety Stock']\n",
    "FC_inventory_2024 = FC_inventory_2024.drop(columns=['Quantity','Safety Stock'])\n",
    "max_24 = FC_inventory_2024\n",
    "FC_inventory_2024 = FC_inventory_2024.unstack(level='Day')\n",
    "\n",
    "FC_inventory_2025['Safety Stock'] = inventory_2025\n",
    "FC_inventory_2025['Inventory'] = FC_inventory_2025['Quantity'].multiply(7)+FC_inventory_2025['Safety Stock']\n",
    "FC_inventory_2025 = FC_inventory_2025.drop(columns=['Quantity','Safety Stock'])\n",
    "max_25 = FC_inventory_2025\n",
    "FC_inventory_2025 = FC_inventory_2025.unstack(level='Day')\n",
    "\n",
    "FC_inventory_2026['Safety Stock'] = inventory_2026\n",
    "FC_inventory_2026['Inventory'] = FC_inventory_2026['Quantity'].multiply(7)+FC_inventory_2026['Safety Stock']\n",
    "FC_inventory_2026 = FC_inventory_2026.drop(columns=['Quantity','Safety Stock'])\n",
    "max_26 = FC_inventory_2026\n",
    "FC_inventory_2026 = FC_inventory_2026.unstack(level='Day')\n",
    "\n",
    "FC_inventory_2027['Safety Stock'] = inventory_2027\n",
    "FC_inventory_2027['Inventory'] = FC_inventory_2027['Quantity'].multiply(7)+FC_inventory_2027['Safety Stock']\n",
    "FC_inventory_2027 = FC_inventory_2027.drop(columns=['Quantity','Safety Stock'])\n",
    "max_27 = FC_inventory_2027\n",
    "FC_inventory_2027 = FC_inventory_2027.unstack(level='Day')\n",
    "\n",
    "FC_inventory_2028['Safety Stock'] = inventory_2028\n",
    "FC_inventory_2028['Inventory'] = FC_inventory_2028['Quantity'].multiply(7)+FC_inventory_2028['Safety Stock']\n",
    "FC_inventory_2028 = FC_inventory_2028.drop(columns=['Quantity','Safety Stock'])\n",
    "max_28 = FC_inventory_2028\n",
    "FC_inventory_2028 = FC_inventory_2028.unstack(level='Day')"
   ]
  },
  {
   "cell_type": "code",
   "execution_count": null,
   "id": "79b8b8fc",
   "metadata": {},
   "outputs": [],
   "source": [
    "df23_FCinv = FC_inventory_2023.reset_index()\n",
    "df23_FCinv.to_csv(\"Simulated FC Inventory 2023.csv\", index=False)\n",
    "\n",
    "df24_FCinv = FC_inventory_2024.reset_index()\n",
    "df24_FCinv.to_csv(\"Simulated FC Inventory 2024.csv\", index=False)\n",
    "\n",
    "df25_FCinv = FC_inventory_2025.reset_index()\n",
    "df25_FCinv.to_csv(\"Simulated FC Inventory 2025.csv\", index=False)\n",
    "\n",
    "df26_FCinv = FC_inventory_2026.reset_index()\n",
    "df26_FCinv.to_csv(\"Simulated FC Inventory 2026.csv\", index=False)\n",
    "\n",
    "df27_FCinv = FC_inventory_2027.reset_index()\n",
    "df27_FCinv.to_csv(\"Simulated FC Inventory 2027.csv\", index=False)\n",
    "\n",
    "df28_FCinv = FC_inventory_2028.reset_index()\n",
    "df28_FCinv.to_csv(\"Simulated FC Inventory 2028.csv\", index=False)"
   ]
  },
  {
   "cell_type": "markdown",
   "id": "43348eeb",
   "metadata": {},
   "source": [
    "FC Inventory Metrics:"
   ]
  },
  {
   "cell_type": "code",
   "execution_count": null,
   "id": "0dd387a6",
   "metadata": {},
   "outputs": [],
   "source": [
    "writer2 = pd.ExcelWriter(\"3d Metrics.xlsx\")\n",
    "\n",
    "max_23.groupby(['FC']).apply(max).to_excel(writer2, sheet_name = \"MAX 2023\")\n",
    "max_24.groupby(['FC']).apply(max).to_excel(writer2, sheet_name = \"MAX 2024\")\n",
    "max_25.groupby(['FC']).apply(max).to_excel(writer2, sheet_name = \"MAX 2025\")\n",
    "max_26.groupby(['FC']).apply(max).to_excel(writer2, sheet_name = \"MAX 2026\")\n",
    "max_27.groupby(['FC']).apply(max).to_excel(writer2, sheet_name = \"MAX 2027\")\n",
    "max_28.groupby(['FC']).apply(max).to_excel(writer2, sheet_name = \"MAX 2028\")\n",
    "\n",
    "max_23.groupby(['FC','Day']).sum().to_excel(writer2, sheet_name = \"Total per Day 2023\")\n",
    "max_24.groupby(['FC','Day']).sum().to_excel(writer2, sheet_name = \"Total per Day 2024\")\n",
    "max_25.groupby(['FC','Day']).sum().to_excel(writer2, sheet_name = \"Total per Day 2025\")\n",
    "max_26.groupby(['FC','Day']).sum().to_excel(writer2, sheet_name = \"Total per Day 2026\")\n",
    "max_27.groupby(['FC','Day']).sum().to_excel(writer2, sheet_name = \"Total per Day 2027\")\n",
    "max_28.groupby(['FC','Day']).sum().to_excel(writer2, sheet_name = \"Total per Day 2028\")\n",
    "writer2.save()"
   ]
  },
  {
   "cell_type": "markdown",
   "id": "f065e038",
   "metadata": {},
   "source": [
    "# DC Orders"
   ]
  },
  {
   "cell_type": "code",
   "execution_count": null,
   "id": "d7f075b5",
   "metadata": {},
   "outputs": [],
   "source": [
    "df23_FC.loc[:,\"DC\"] = df23_FC.loc[:,\"FC\"]\n",
    "df23_FC.replace({\"DC\":FC_DC_dict}, inplace=True)\n",
    "DC_demand_2023 = df23_FC.drop(columns='FC')\n",
    "\n",
    "df24_FC.loc[:,\"DC\"] = df24_FC.loc[:,\"FC\"]\n",
    "df24_FC.replace({\"DC\":FC_DC_dict}, inplace=True)\n",
    "DC_demand_2024 = df24_FC.drop(columns='FC')\n",
    "\n",
    "df25_FC.loc[:,\"DC\"] = df25_FC.loc[:,\"FC\"]\n",
    "df25_FC.replace({\"DC\":FC_DC_dict}, inplace=True)\n",
    "DC_demand_2025 = df25_FC.drop(columns='FC')\n",
    "\n",
    "df26_FC.loc[:,\"DC\"] = df26_FC.loc[:,\"FC\"]\n",
    "df26_FC.replace({\"DC\":FC_DC_dict}, inplace=True)\n",
    "DC_demand_2026 = df26_FC.drop(columns='FC')\n",
    "\n",
    "df27_FC.loc[:,\"DC\"] = df27_FC.loc[:,\"FC\"]\n",
    "df27_FC.replace({\"DC\":FC_DC_dict}, inplace=True)\n",
    "DC_demand_2027 = df27_FC.drop(columns='FC')\n",
    "\n",
    "df28_FC.loc[:,\"DC\"] = df28_FC.loc[:,\"FC\"]\n",
    "df28_FC.replace({\"DC\":FC_DC_dict}, inplace=True)\n",
    "DC_demand_2028 = df28_FC.drop(columns='FC')"
   ]
  },
  {
   "cell_type": "code",
   "execution_count": null,
   "id": "b4c06012",
   "metadata": {},
   "outputs": [],
   "source": [
    "DC_demand_2023 = DC_demand_2023.groupby(['DC','Day','Product']).sum()\n",
    "df23_DC = DC_demand_2023.reset_index()\n",
    "\n",
    "DC_demand_2024 = DC_demand_2024.groupby(['DC','Day','Product']).sum()\n",
    "df24_DC = DC_demand_2024.reset_index()\n",
    "\n",
    "DC_demand_2025 = DC_demand_2025.groupby(['DC','Day','Product']).sum()\n",
    "df25_DC = DC_demand_2025.reset_index()\n",
    "\n",
    "DC_demand_2026 = DC_demand_2026.groupby(['DC','Day','Product']).sum()\n",
    "df26_DC = DC_demand_2026.reset_index()\n",
    "\n",
    "DC_demand_2027 = DC_demand_2027.groupby(['DC','Day','Product']).sum()\n",
    "df27_DC = DC_demand_2027.reset_index()\n",
    "\n",
    "DC_demand_2028 = DC_demand_2028.groupby(['DC','Day','Product']).sum()\n",
    "df28_DC = DC_demand_2028.reset_index()"
   ]
  },
  {
   "cell_type": "code",
   "execution_count": null,
   "id": "64386264",
   "metadata": {},
   "outputs": [],
   "source": [
    "df23_DC.to_csv(\"Simulated DC Robust Forecast 2023.csv\", index=False)\n",
    "df24_DC.to_csv(\"Simulated DC Robust Forecast 2024.csv\", index=False)\n",
    "df25_DC.to_csv(\"Simulated DC Robust Forecast 2025.csv\", index=False)\n",
    "df26_DC.to_csv(\"Simulated DC Robust Forecast 2026.csv\", index=False)\n",
    "df27_DC.to_csv(\"Simulated DC Robust Forecast 2027.csv\", index=False)\n",
    "df28_DC.to_csv(\"Simulated DC Robust Forecast 2028.csv\", index=False)"
   ]
  },
  {
   "cell_type": "markdown",
   "id": "5fcb9e0a",
   "metadata": {},
   "source": [
    "DC Order Metrics:"
   ]
  },
  {
   "cell_type": "code",
   "execution_count": null,
   "id": "a3480d65",
   "metadata": {},
   "outputs": [],
   "source": [
    "writer = pd.ExcelWriter(\"4b Metrics.xlsx\")\n",
    "DC_demand_2023.groupby(['DC','Day']).sum()['Quantity'].to_excel(writer, sheet_name = \"2023\")\n",
    "DC_demand_2023.groupby(['DC','Day']).sum()['Quantity'].to_excel(writer, sheet_name = \"2024\")\n",
    "DC_demand_2023.groupby(['DC','Day']).sum()['Quantity'].to_excel(writer, sheet_name = \"2025\")\n",
    "DC_demand_2023.groupby(['DC','Day']).sum()['Quantity'].to_excel(writer, sheet_name = \"2026\")\n",
    "DC_demand_2023.groupby(['DC','Day']).sum()['Quantity'].to_excel(writer, sheet_name = \"2027\")\n",
    "DC_demand_2023.groupby(['DC','Day']).sum()['Quantity'].to_excel(writer, sheet_name = \"2028\")\n",
    "writer.save()"
   ]
  },
  {
   "cell_type": "markdown",
   "id": "0d0c638f",
   "metadata": {},
   "source": [
    "# DC Inventory"
   ]
  },
  {
   "cell_type": "code",
   "execution_count": null,
   "id": "0dba0a59",
   "metadata": {},
   "outputs": [],
   "source": [
    "empty_index_DC = pd.MultiIndex.from_product([DC,days_of_year,product],names=['DC','Day','Product'])\n",
    "\n",
    "DC_inventory_2023 = DC_demand_2023.reindex(empty_index_DC,fill_value=0)\n",
    "DC_inventory_2023.index = DC_inventory_2023.index.swaplevel(1,2)\n",
    "DC_inventory_2023.sort_index(inplace=True)\n",
    "\n",
    "DC_inventory_2024 = DC_demand_2024.reindex(empty_index_DC,fill_value=0)\n",
    "DC_inventory_2024.index = DC_inventory_2024.index.swaplevel(1,2)\n",
    "DC_inventory_2024.sort_index(inplace=True)\n",
    "\n",
    "DC_inventory_2025 = DC_demand_2025.reindex(empty_index_DC,fill_value=0)\n",
    "DC_inventory_2025.index = DC_inventory_2025.index.swaplevel(1,2)\n",
    "DC_inventory_2025.sort_index(inplace=True)\n",
    "\n",
    "DC_inventory_2026 = DC_demand_2026.reindex(empty_index_DC,fill_value=0)\n",
    "DC_inventory_2026.index = DC_inventory_2026.index.swaplevel(1,2)\n",
    "DC_inventory_2026.sort_index(inplace=True)\n",
    "\n",
    "DC_inventory_2027 = DC_demand_2027.reindex(empty_index_DC,fill_value=0)\n",
    "DC_inventory_2027.index = DC_inventory_2027.index.swaplevel(1,2)\n",
    "DC_inventory_2027.sort_index(inplace=True)\n",
    "\n",
    "DC_inventory_2028 = DC_demand_2028.reindex(empty_index_DC,fill_value=0)\n",
    "DC_inventory_2028.index = DC_inventory_2028.index.swaplevel(1,2)\n",
    "DC_inventory_2028.sort_index(inplace=True)"
   ]
  },
  {
   "cell_type": "code",
   "execution_count": null,
   "id": "2dbe1831",
   "metadata": {},
   "outputs": [],
   "source": [
    "DC_inv_2023 = DC_inventory_2023.groupby(level=[0,1],group_keys=False).rolling(20).sum().shift(-20)\n",
    "DC_inv_2023.reset_index()\n",
    "rolling_inventory_2023 = DC_inv_2023.to_numpy()\n",
    "\n",
    "DC_inv_2024 = DC_inventory_2024.groupby(level=[0,1],group_keys=False).rolling(20).sum().shift(-20)\n",
    "DC_inv_2024.reset_index()\n",
    "rolling_inventory_2024 = DC_inv_2023.to_numpy()\n",
    "\n",
    "DC_inv_2025 = DC_inventory_2025.groupby(level=[0,1],group_keys=False).rolling(20).sum().shift(-20)\n",
    "DC_inv_2025.reset_index()\n",
    "rolling_inventory_2025 = DC_inv_2023.to_numpy()\n",
    "\n",
    "DC_inv_2026 = DC_inventory_2026.groupby(level=[0,1],group_keys=False).rolling(20).sum().shift(-20)\n",
    "DC_inv_2026.reset_index()\n",
    "rolling_inventory_2026 = DC_inv_2023.to_numpy()\n",
    "\n",
    "DC_inv_2027 = DC_inventory_2027.groupby(level=[0,1],group_keys=False).rolling(20).sum().shift(-20)\n",
    "DC_inv_2027.reset_index()\n",
    "rolling_inventory_2027 = DC_inv_2023.to_numpy()\n",
    "\n",
    "DC_inv_2028 = DC_inventory_2028.groupby(level=[0,1],group_keys=False).rolling(20).sum().shift(-20)\n",
    "DC_inv_2028.reset_index()\n",
    "rolling_inventory_2028 = DC_inv_2023.to_numpy()"
   ]
  },
  {
   "cell_type": "code",
   "execution_count": null,
   "id": "73e466b8",
   "metadata": {},
   "outputs": [],
   "source": [
    "for j in range(1,len(DC)+1):\n",
    "    for i in range(len(product)):\n",
    "        x= j*((i*364)+344)\n",
    "        y= j*((i*364)+363)\n",
    "        w= j*((i*364)+1)\n",
    "        z= j*((i*364)+20)\n",
    "        rolling_inventory_2023[x:y] = rolling_inventory_2023[w:z]\n",
    "        rolling_inventory_2024[x:y] = rolling_inventory_2024[w:z]\n",
    "        rolling_inventory_2025[x:y] = rolling_inventory_2025[w:z]\n",
    "        rolling_inventory_2026[x:y] = rolling_inventory_2026[w:z]\n",
    "        rolling_inventory_2027[x:y] = rolling_inventory_2027[w:z]\n",
    "        rolling_inventory_2028[x:y] = rolling_inventory_2028[w:z]\n",
    "\n",
    "rolling_inventory_2023 = np.nan_to_num(rolling_inventory_2023)\n",
    "rolling_inventory_2024 = np.nan_to_num(rolling_inventory_2024)\n",
    "rolling_inventory_2025 = np.nan_to_num(rolling_inventory_2025)\n",
    "rolling_inventory_2026 = np.nan_to_num(rolling_inventory_2026)\n",
    "rolling_inventory_2027 = np.nan_to_num(rolling_inventory_2027)\n",
    "rolling_inventory_2028 = np.nan_to_num(rolling_inventory_2028)\n",
    "        \n",
    "DC_inventory_2023['Safety Stock'] = rolling_inventory_2023  \n",
    "DC_inventory_2024['Safety Stock'] = rolling_inventory_2024  \n",
    "DC_inventory_2025['Safety Stock'] = rolling_inventory_2025  \n",
    "DC_inventory_2026['Safety Stock'] = rolling_inventory_2026  \n",
    "DC_inventory_2027['Safety Stock'] = rolling_inventory_2027  \n",
    "DC_inventory_2028['Safety Stock'] = rolling_inventory_2028  "
   ]
  },
  {
   "cell_type": "code",
   "execution_count": null,
   "id": "9d7d00c5",
   "metadata": {},
   "outputs": [],
   "source": [
    "subcat_23 = DC_inventory_2023.reset_index()\n",
    "subcat_23 = subcat_23['Product']\n",
    "subcat_23.replace(product_subcat_dict, inplace=True)\n",
    "subcat_23 = subcat_23.to_numpy()\n",
    "DC_inventory_2023['Sub-Category'] = subcat_23\n",
    "\n",
    "subcat_24 = DC_inventory_2024.reset_index()\n",
    "subcat_24 = subcat_24['Product']\n",
    "subcat_24.replace(product_subcat_dict, inplace=True)\n",
    "subcat_24 = subcat_24.to_numpy()\n",
    "DC_inventory_2024['Sub-Category'] = subcat_24\n",
    "\n",
    "subcat_25 = DC_inventory_2025.reset_index()\n",
    "subcat_25 = subcat_25['Product']\n",
    "subcat_25.replace(product_subcat_dict, inplace=True)\n",
    "subcat_25 = subcat_25.to_numpy()\n",
    "DC_inventory_2025['Sub-Category'] = subcat_25\n",
    "\n",
    "subcat_26 = DC_inventory_2026.reset_index()\n",
    "subcat_26 = subcat_26['Product']\n",
    "subcat_26.replace(product_subcat_dict, inplace=True)\n",
    "subcat_26 = subcat_26.to_numpy()\n",
    "DC_inventory_2026['Sub-Category'] = subcat_26\n",
    "\n",
    "subcat_27 = DC_inventory_2027.reset_index()\n",
    "subcat_27 = subcat_27['Product']\n",
    "subcat_27.replace(product_subcat_dict, inplace=True)\n",
    "subcat_27 = subcat_27.to_numpy()\n",
    "DC_inventory_2027['Sub-Category'] = subcat_27\n",
    "\n",
    "subcat_28 = DC_inventory_2028.reset_index()\n",
    "subcat_28 = subcat_28['Product']\n",
    "subcat_28.replace(product_subcat_dict, inplace=True)\n",
    "subcat_28 = subcat_28.to_numpy()\n",
    "DC_inventory_2028['Sub-Category'] = subcat_28"
   ]
  },
  {
   "cell_type": "code",
   "execution_count": null,
   "id": "94a0d5fd",
   "metadata": {},
   "outputs": [],
   "source": [
    "print(len(DC_inventory_2023))"
   ]
  },
  {
   "cell_type": "code",
   "execution_count": null,
   "id": "ce923873",
   "metadata": {},
   "outputs": [],
   "source": [
    "conditions_23 = [(DC_inventory_2023['Sub-Category']==\"f\"), (DC_inventory_2023['Sub-Category']==\"m\"), (DC_inventory_2023['Sub-Category']==\"s\")]\n",
    "choices_23 = [np.random.triangular(21,26,60,426608), np.random.triangular(40,52,85,426608), np.random.triangular(72,100,182,426608)]\n",
    "DC_inventory_2023['Lead Time'] = np.select(conditions_23, choices_23)\n",
    "\n",
    "conditions_24 = [(DC_inventory_2024['Sub-Category']==\"f\"), (DC_inventory_2024['Sub-Category']==\"m\"), (DC_inventory_2024['Sub-Category']==\"s\")]\n",
    "choices_24 = [np.random.triangular(21,26,60,426608), np.random.triangular(40,52,85,426608), np.random.triangular(72,100,182,426608)]\n",
    "DC_inventory_2024['Lead Time'] = np.select(conditions_24, choices_24)\n",
    "\n",
    "conditions_25 = [(DC_inventory_2025['Sub-Category']==\"f\"), (DC_inventory_2025['Sub-Category']==\"m\"), (DC_inventory_2025['Sub-Category']==\"s\")]\n",
    "choices_25 = [np.random.triangular(21,26,60,426608), np.random.triangular(40,52,85,426608), np.random.triangular(72,100,182,426608)]\n",
    "DC_inventory_2025['Lead Time'] = np.select(conditions_25, choices_25)\n",
    "\n",
    "conditions_26 = [(DC_inventory_2026['Sub-Category']==\"f\"), (DC_inventory_2026['Sub-Category']==\"m\"), (DC_inventory_2026['Sub-Category']==\"s\")]\n",
    "choices_26 = [np.random.triangular(21,26,60,426608), np.random.triangular(40,52,85,426608), np.random.triangular(72,100,182,426608)]\n",
    "DC_inventory_2026['Lead Time'] = np.select(conditions_26, choices_26)\n",
    "\n",
    "conditions_27 = [(DC_inventory_2027['Sub-Category']==\"f\"), (DC_inventory_2027['Sub-Category']==\"m\"), (DC_inventory_2027['Sub-Category']==\"s\")]\n",
    "choices_27 = [np.random.triangular(21,26,60,426608), np.random.triangular(40,52,85,426608), np.random.triangular(72,100,182,426608)]\n",
    "DC_inventory_2027['Lead Time'] = np.select(conditions_27, choices_27)\n",
    "\n",
    "conditions_28 = [(DC_inventory_2028['Sub-Category']==\"f\"), (DC_inventory_2028['Sub-Category']==\"m\"), (DC_inventory_2028['Sub-Category']==\"s\")]\n",
    "choices_28 = [np.random.triangular(21,26,60,426608), np.random.triangular(40,52,85,426608), np.random.triangular(72,100,182,426608)]\n",
    "DC_inventory_2028['Lead Time'] = np.select(conditions_28, choices_28)"
   ]
  },
  {
   "cell_type": "code",
   "execution_count": null,
   "id": "07e31b10",
   "metadata": {},
   "outputs": [],
   "source": [
    "DC_inventory_2023['Inventory'] = DC_inventory_2023['Quantity']*DC_inventory_2023['Lead Time'] + DC_inventory_2023['Safety Stock'] #adjust the multiply line\n",
    "DC_inventory_2023 = DC_inventory_2023.drop(columns=['Quantity','Safety Stock','Sub-Category','Lead Time'])\n",
    "max_23D = DC_inventory_2023\n",
    "DC_inventory_2023 = DC_inventory_2023.unstack(level='Day')\n",
    "\n",
    "DC_inventory_2024['Inventory'] = DC_inventory_2024['Quantity']*DC_inventory_2024['Lead Time'] + DC_inventory_2024['Safety Stock'] #adjust the multiply line\n",
    "DC_inventory_2024 = DC_inventory_2024.drop(columns=['Quantity','Safety Stock','Sub-Category','Lead Time'])\n",
    "max_24D = DC_inventory_2024\n",
    "DC_inventory_2024 = DC_inventory_2024.unstack(level='Day')\n",
    "\n",
    "DC_inventory_2025['Inventory'] = DC_inventory_2025['Quantity']*DC_inventory_2025['Lead Time'] + DC_inventory_2025['Safety Stock'] #adjust the multiply line\n",
    "DC_inventory_2025 = DC_inventory_2025.drop(columns=['Quantity','Safety Stock','Sub-Category','Lead Time'])\n",
    "max_25D = DC_inventory_2025\n",
    "DC_inventory_2025 = DC_inventory_2025.unstack(level='Day')\n",
    "\n",
    "DC_inventory_2026['Inventory'] = DC_inventory_2026['Quantity']*DC_inventory_2026['Lead Time'] + DC_inventory_2026['Safety Stock'] #adjust the multiply line\n",
    "DC_inventory_2026 = DC_inventory_2026.drop(columns=['Quantity','Safety Stock','Sub-Category','Lead Time'])\n",
    "max_26D = DC_inventory_2026\n",
    "DC_inventory_2026 = DC_inventory_2026.unstack(level='Day')\n",
    "\n",
    "DC_inventory_2027['Inventory'] = DC_inventory_2027['Quantity']*DC_inventory_2027['Lead Time'] + DC_inventory_2027['Safety Stock'] #adjust the multiply line\n",
    "DC_inventory_2027 = DC_inventory_2027.drop(columns=['Quantity','Safety Stock','Sub-Category','Lead Time'])\n",
    "max_27D = DC_inventory_2027\n",
    "DC_inventory_2027 = DC_inventory_2027.unstack(level='Day')\n",
    "\n",
    "DC_inventory_2028['Inventory'] = DC_inventory_2028['Quantity']*DC_inventory_2028['Lead Time'] + DC_inventory_2028['Safety Stock'] #adjust the multiply line\n",
    "DC_inventory_2028 = DC_inventory_2028.drop(columns=['Quantity','Safety Stock','Sub-Category','Lead Time'])\n",
    "max_28D = DC_inventory_2028\n",
    "DC_inventory_2028 = DC_inventory_2028.unstack(level='Day')"
   ]
  },
  {
   "cell_type": "code",
   "execution_count": null,
   "id": "8c93b450",
   "metadata": {},
   "outputs": [],
   "source": [
    "df23_DCinv = DC_inventory_2023.reset_index()\n",
    "df23_DCinv.to_csv(\"Simulated DC Inventory 2023.csv\", index=False)\n",
    "\n",
    "df24_DCinv = DC_inventory_2024.reset_index()\n",
    "df24_DCinv.to_csv(\"Simulated DC Inventory 2024.csv\", index=False)\n",
    "\n",
    "df25_DCinv = DC_inventory_2025.reset_index()\n",
    "df25_DCinv.to_csv(\"Simulated DC Inventory 2025.csv\", index=False)\n",
    "\n",
    "df26_DCinv = DC_inventory_2026.reset_index()\n",
    "df26_DCinv.to_csv(\"Simulated DC Inventory 2026.csv\", index=False)\n",
    "\n",
    "df27_DCinv = DC_inventory_2027.reset_index()\n",
    "df27_DCinv.to_csv(\"Simulated DC Inventory 2027.csv\", index=False)\n",
    "\n",
    "df28_DCinv = DC_inventory_2028.reset_index()\n",
    "df28_DCinv.to_csv(\"Simulated DC Inventory 2028.csv\", index=False)"
   ]
  },
  {
   "cell_type": "markdown",
   "id": "39570f6a",
   "metadata": {},
   "source": [
    "DC Inventory Metrics:"
   ]
  },
  {
   "cell_type": "code",
   "execution_count": null,
   "id": "4d8746c6",
   "metadata": {},
   "outputs": [],
   "source": [
    "writer3 = pd.ExcelWriter(\"4C Metrics.xlsx\")\n",
    "max_23D.groupby(['DC']).apply(max).to_excel(writer3, sheet_name = \"MAX 2023\")\n",
    "max_24D.groupby(['DC']).apply(max).to_excel(writer3, sheet_name = \"MAX 2024\")\n",
    "max_25D.groupby(['DC']).apply(max).to_excel(writer3, sheet_name = \"MAX 2025\")\n",
    "max_26D.groupby(['DC']).apply(max).to_excel(writer3, sheet_name = \"MAX 2026\")\n",
    "max_27D.groupby(['DC']).apply(max).to_excel(writer3, sheet_name = \"MAX 2027\")\n",
    "max_28D.groupby(['DC']).apply(max).to_excel(writer3, sheet_name = \"MAX 2028\")\n",
    "\n",
    "max_23D.groupby(['DC','Day']).sum().to_excel(writer3, sheet_name = \"Total Per Day 2023\")\n",
    "max_24D.groupby(['DC','Day']).sum().to_excel(writer3, sheet_name = \"Total Per Day 2024\")\n",
    "max_25D.groupby(['DC','Day']).sum().to_excel(writer3, sheet_name = \"Total Per Day 2025\")\n",
    "max_26D.groupby(['DC','Day']).sum().to_excel(writer3, sheet_name = \"Total Per Day 2026\")\n",
    "max_27D.groupby(['DC','Day']).sum().to_excel(writer3, sheet_name = \"Total Per Day 2027\")\n",
    "max_28D.groupby(['DC','Day']).sum().to_excel(writer3, sheet_name = \"Total Per Day 2028\")\n",
    "writer3.save()"
   ]
  }
 ],
 "metadata": {
  "kernelspec": {
   "display_name": "Python 3",
   "language": "python",
   "name": "python3"
  },
  "language_info": {
   "codemirror_mode": {
    "name": "ipython",
    "version": 3
   },
   "file_extension": ".py",
   "mimetype": "text/x-python",
   "name": "python",
   "nbconvert_exporter": "python",
   "pygments_lexer": "ipython3",
   "version": "3.8.8"
  }
 },
 "nbformat": 4,
 "nbformat_minor": 5
}
