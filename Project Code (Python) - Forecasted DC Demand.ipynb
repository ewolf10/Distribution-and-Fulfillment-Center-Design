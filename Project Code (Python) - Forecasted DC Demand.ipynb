{
 "cells": [
  {
   "cell_type": "code",
   "execution_count": 8,
   "id": "d88b4232",
   "metadata": {},
   "outputs": [],
   "source": [
    "import numpy as np\n",
    "import pandas as pd"
   ]
  },
  {
   "cell_type": "code",
   "execution_count": 9,
   "id": "12b1ed53",
   "metadata": {},
   "outputs": [],
   "source": [
    "FC_forecast_2023 = pd.read_csv(\"FC Robust Forecast 2023.csv\")\n",
    "FC_forecast_2024 = pd.read_csv(\"FC Robust Forecast 2024.csv\")\n",
    "FC_forecast_2025 = pd.read_csv(\"FC Robust Forecast 2025.csv\")\n",
    "FC_forecast_2026 = pd.read_csv(\"FC Robust Forecast 2026.csv\")\n",
    "FC_forecast_2027 = pd.read_csv(\"FC Robust Forecast 2027.csv\")\n",
    "FC_forecast_2028 = pd.read_csv(\"FC Robust Forecast 2028.csv\")"
   ]
  },
  {
   "cell_type": "code",
   "execution_count": 10,
   "id": "114792c5",
   "metadata": {},
   "outputs": [],
   "source": [
    "week = pd.read_csv(\"Weekly Demand Share.csv\")['Week'].to_numpy()\n",
    "product = pd.read_csv('Product Demand Share.csv')['Product'].to_numpy()\n",
    "zipcode = pd.read_csv(\"Zip Code Demand Share.csv\")['Zip Code'].to_numpy()\n",
    "FC = pd.read_csv(\"FC - Address Data.csv\")['City'].to_numpy()\n",
    "DC = ['Savannah','Jurupa Valley']"
   ]
  },
  {
   "cell_type": "code",
   "execution_count": 11,
   "id": "9bb1d81b",
   "metadata": {},
   "outputs": [],
   "source": [
    "FC_DC_df = pd.read_csv(\"Distribution Center Assignment.csv\") \n",
    "FC_DC_dict = FC_DC_df.set_index('FC City')['DC City'].to_dict() "
   ]
  },
  {
   "cell_type": "code",
   "execution_count": 12,
   "id": "1d792e25",
   "metadata": {},
   "outputs": [],
   "source": [
    "FC_forecast_2023.loc[:,\"DC\"] = FC_forecast_2023.loc[:,\"FC\"]\n",
    "FC_forecast_2023.replace({\"DC\":FC_DC_dict}, inplace=True)\n",
    "FC_forecast_2023 = FC_forecast_2023.drop(columns='FC')\n",
    "\n",
    "FC_forecast_2024.loc[:,\"DC\"] = FC_forecast_2024.loc[:,\"FC\"]\n",
    "FC_forecast_2024.replace({\"DC\":FC_DC_dict}, inplace=True)\n",
    "FC_forecast_2024 = FC_forecast_2024.drop(columns='FC')\n",
    "\n",
    "FC_forecast_2025.loc[:,\"DC\"] = FC_forecast_2025.loc[:,\"FC\"]\n",
    "FC_forecast_2025.replace({\"DC\":FC_DC_dict}, inplace=True)\n",
    "FC_forecast_2025 = FC_forecast_2025.drop(columns='FC')\n",
    "\n",
    "FC_forecast_2026.loc[:,\"DC\"] = FC_forecast_2026.loc[:,\"FC\"]\n",
    "FC_forecast_2026.replace({\"DC\":FC_DC_dict}, inplace=True)\n",
    "FC_forecast_2026 = FC_forecast_2026.drop(columns='FC')\n",
    "\n",
    "FC_forecast_2027.loc[:,\"DC\"] = FC_forecast_2027.loc[:,\"FC\"]\n",
    "FC_forecast_2027.replace({\"DC\":FC_DC_dict}, inplace=True)\n",
    "FC_forecast_2027 = FC_forecast_2027.drop(columns='FC')\n",
    "\n",
    "FC_forecast_2028.loc[:,\"DC\"] = FC_forecast_2028.loc[:,\"FC\"]\n",
    "FC_forecast_2028.replace({\"DC\":FC_DC_dict}, inplace=True)\n",
    "FC_forecast_2028 = FC_forecast_2028.drop(columns='FC')"
   ]
  },
  {
   "cell_type": "code",
   "execution_count": 13,
   "id": "f18ba2ac",
   "metadata": {},
   "outputs": [],
   "source": [
    "DC_demand_2023 = FC_forecast_2023.groupby(['DC','Week','Product']).sum()\n",
    "df23_DC = DC_demand_2023.reset_index()\n",
    "\n",
    "DC_demand_2024 = FC_forecast_2024.groupby(['DC','Week','Product']).sum()\n",
    "df24_DC = DC_demand_2024.reset_index()\n",
    "\n",
    "DC_demand_2025 = FC_forecast_2025.groupby(['DC','Week','Product']).sum()\n",
    "df25_DC = DC_demand_2025.reset_index()\n",
    "\n",
    "DC_demand_2026 = FC_forecast_2026.groupby(['DC','Week','Product']).sum()\n",
    "df26_DC = DC_demand_2026.reset_index()\n",
    "\n",
    "DC_demand_2027 = FC_forecast_2027.groupby(['DC','Week','Product']).sum()\n",
    "df27_DC = DC_demand_2027.reset_index()\n",
    "\n",
    "DC_demand_2028 = FC_forecast_2028.groupby(['DC','Week','Product']).sum()\n",
    "df28_DC = DC_demand_2028.reset_index()"
   ]
  },
  {
   "cell_type": "code",
   "execution_count": 14,
   "id": "8b2f07cd",
   "metadata": {},
   "outputs": [],
   "source": [
    "df23_DC.to_csv(\"DC Robust Forecast 2023.csv\", index=False)\n",
    "df24_DC.to_csv(\"DC Robust Forecast 2024.csv\", index=False)\n",
    "df25_DC.to_csv(\"DC Robust Forecast 2025.csv\", index=False)\n",
    "df26_DC.to_csv(\"DC Robust Forecast 2026.csv\", index=False)\n",
    "df27_DC.to_csv(\"DC Robust Forecast 2027.csv\", index=False)\n",
    "df28_DC.to_csv(\"DC Robust Forecast 2028.csv\", index=False)"
   ]
  }
 ],
 "metadata": {
  "kernelspec": {
   "display_name": "Python 3",
   "language": "python",
   "name": "python3"
  },
  "language_info": {
   "codemirror_mode": {
    "name": "ipython",
    "version": 3
   },
   "file_extension": ".py",
   "mimetype": "text/x-python",
   "name": "python",
   "nbconvert_exporter": "python",
   "pygments_lexer": "ipython3",
   "version": "3.8.8"
  }
 },
 "nbformat": 4,
 "nbformat_minor": 5
}
